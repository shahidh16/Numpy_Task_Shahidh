{
  "cells": [
    {
      "cell_type": "markdown",
      "metadata": {
        "id": "UaXj30Why9rM"
      },
      "source": [
        "# Numpy\n",
        "\n"
      ]
    },
    {
      "cell_type": "markdown",
      "metadata": {
        "id": "35gpEEuvy9rU"
      },
      "source": [
        "#### 1. Import the numpy package under the name `np` (★☆☆) \n",
        "(**hint**: import … as …)"
      ]
    },
    {
      "cell_type": "code",
      "execution_count": 1,
      "metadata": {
        "collapsed": true,
        "id": "QgZU-ER0y9rV"
      },
      "outputs": [],
      "source": [
        "import numpy as np"
      ]
    },
    {
      "cell_type": "markdown",
      "metadata": {
        "id": "soeiljpNy9rV"
      },
      "source": [
        "#### 2. Print the numpy version and the configuration (★☆☆) \n",
        "(**hint**: np.\\_\\_version\\_\\_, np.show\\_config)"
      ]
    },
    {
      "cell_type": "code",
      "execution_count": 3,
      "metadata": {
        "id": "oAX7LWGzy9rW",
        "colab": {
          "base_uri": "https://localhost:8080/"
        },
        "outputId": "9d0fd402-dd91-4ce1-c568-2f8164a274e2"
      },
      "outputs": [
        {
          "output_type": "stream",
          "name": "stdout",
          "text": [
            "1.21.6\n",
            "blas_mkl_info:\n",
            "  NOT AVAILABLE\n",
            "blis_info:\n",
            "  NOT AVAILABLE\n",
            "openblas_info:\n",
            "    libraries = ['openblas', 'openblas']\n",
            "    library_dirs = ['/usr/local/lib']\n",
            "    language = c\n",
            "    define_macros = [('HAVE_CBLAS', None)]\n",
            "    runtime_library_dirs = ['/usr/local/lib']\n",
            "blas_opt_info:\n",
            "    libraries = ['openblas', 'openblas']\n",
            "    library_dirs = ['/usr/local/lib']\n",
            "    language = c\n",
            "    define_macros = [('HAVE_CBLAS', None)]\n",
            "    runtime_library_dirs = ['/usr/local/lib']\n",
            "lapack_mkl_info:\n",
            "  NOT AVAILABLE\n",
            "openblas_lapack_info:\n",
            "    libraries = ['openblas', 'openblas']\n",
            "    library_dirs = ['/usr/local/lib']\n",
            "    language = c\n",
            "    define_macros = [('HAVE_CBLAS', None)]\n",
            "    runtime_library_dirs = ['/usr/local/lib']\n",
            "lapack_opt_info:\n",
            "    libraries = ['openblas', 'openblas']\n",
            "    library_dirs = ['/usr/local/lib']\n",
            "    language = c\n",
            "    define_macros = [('HAVE_CBLAS', None)]\n",
            "    runtime_library_dirs = ['/usr/local/lib']\n",
            "Supported SIMD extensions in this NumPy install:\n",
            "    baseline = SSE,SSE2,SSE3\n",
            "    found = SSSE3,SSE41,POPCNT,SSE42,AVX,F16C,FMA3,AVX2\n",
            "    not found = AVX512F,AVX512CD,AVX512_KNL,AVX512_KNM,AVX512_SKX,AVX512_CLX,AVX512_CNL,AVX512_ICL\n"
          ]
        }
      ],
      "source": [
        "print(np.__version__)\n",
        "np.show_config()"
      ]
    },
    {
      "cell_type": "markdown",
      "metadata": {
        "id": "tF7wtpBJy9rW"
      },
      "source": [
        "#### 3. Create a null vector of size 10 (★☆☆) \n",
        "(**hint**: np.zeros)"
      ]
    },
    {
      "cell_type": "code",
      "execution_count": 4,
      "metadata": {
        "id": "nRfQBWSTy9rX",
        "colab": {
          "base_uri": "https://localhost:8080/"
        },
        "outputId": "9a0f56ac-f277-4a4e-dc72-b16de09941e3"
      },
      "outputs": [
        {
          "output_type": "execute_result",
          "data": {
            "text/plain": [
              "array([0., 0., 0., 0., 0., 0., 0., 0., 0., 0.])"
            ]
          },
          "metadata": {},
          "execution_count": 4
        }
      ],
      "source": [
        "x = np.zeros(10)\n",
        "x"
      ]
    },
    {
      "cell_type": "markdown",
      "metadata": {
        "id": "jKNnBccUy9rX"
      },
      "source": [
        "#### 4.  How to find the memory size of any array (★☆☆) \n",
        "(**hint**: size, itemsize)"
      ]
    },
    {
      "cell_type": "code",
      "execution_count": 5,
      "metadata": {
        "id": "u4n6j-dey9rY",
        "colab": {
          "base_uri": "https://localhost:8080/"
        },
        "outputId": "4f89094b-4e64-463b-810a-e2819ee2bee7"
      },
      "outputs": [
        {
          "output_type": "execute_result",
          "data": {
            "text/plain": [
              "10"
            ]
          },
          "metadata": {},
          "execution_count": 5
        }
      ],
      "source": [
        "x.size"
      ]
    },
    {
      "cell_type": "markdown",
      "metadata": {
        "id": "gzc3u5SJy9rY"
      },
      "source": [
        "#### 5.  How to get the documentation of the numpy add function from the command line? (★☆☆) \n",
        "(**hint**: np.info)"
      ]
    },
    {
      "cell_type": "code",
      "execution_count": 6,
      "metadata": {
        "collapsed": true,
        "id": "BnHahXTyy9rY",
        "colab": {
          "base_uri": "https://localhost:8080/"
        },
        "outputId": "cb627fda-d71b-404e-ec7c-0bef4cbde427"
      },
      "outputs": [
        {
          "output_type": "stream",
          "name": "stdout",
          "text": [
            " info(object=None, maxwidth=76,\n",
            "      output=<ipykernel.iostream.OutStream object at 0x7f306ec623d0>,\n",
            "      toplevel='numpy')\n",
            "\n",
            "Get help information for a function, class, or module.\n",
            "\n",
            "Parameters\n",
            "----------\n",
            "object : object or str, optional\n",
            "    Input object or name to get information about. If `object` is a\n",
            "    numpy object, its docstring is given. If it is a string, available\n",
            "    modules are searched for matching objects.  If None, information\n",
            "    about `info` itself is returned.\n",
            "maxwidth : int, optional\n",
            "    Printing width.\n",
            "output : file like object, optional\n",
            "    File like object that the output is written to, default is\n",
            "    ``stdout``.  The object has to be opened in 'w' or 'a' mode.\n",
            "toplevel : str, optional\n",
            "    Start search at this level.\n",
            "\n",
            "See Also\n",
            "--------\n",
            "source, lookfor\n",
            "\n",
            "Notes\n",
            "-----\n",
            "When used interactively with an object, ``np.info(obj)`` is equivalent\n",
            "to ``help(obj)`` on the Python prompt or ``obj?`` on the IPython\n",
            "prompt.\n",
            "\n",
            "Examples\n",
            "--------\n",
            ">>> np.info(np.polyval) # doctest: +SKIP\n",
            "   polyval(p, x)\n",
            "     Evaluate the polynomial p at x.\n",
            "     ...\n",
            "\n",
            "When using a string for `object` it is possible to get multiple results.\n",
            "\n",
            ">>> np.info('fft') # doctest: +SKIP\n",
            "     *** Found in numpy ***\n",
            "Core FFT routines\n",
            "...\n",
            "     *** Found in numpy.fft ***\n",
            " fft(a, n=None, axis=-1)\n",
            "...\n",
            "     *** Repeat reference found in numpy.fft.fftpack ***\n",
            "     *** Total of 3 references found. ***\n"
          ]
        }
      ],
      "source": [
        "np.info()"
      ]
    },
    {
      "cell_type": "markdown",
      "metadata": {
        "id": "mkunUL7qy9rZ"
      },
      "source": [
        "#### 6.  Create a null vector of size 10 but the fifth value which is 1 (★☆☆) \n",
        "(**hint**: array\\[4\\])"
      ]
    },
    {
      "cell_type": "code",
      "execution_count": 7,
      "metadata": {
        "id": "xKlkdLi7y9rZ",
        "colab": {
          "base_uri": "https://localhost:8080/"
        },
        "outputId": "26b8c4e9-6134-4978-a5f8-428a583ee6c8"
      },
      "outputs": [
        {
          "output_type": "execute_result",
          "data": {
            "text/plain": [
              "array([0., 0., 0., 0., 1., 0., 0., 0., 0., 0.])"
            ]
          },
          "metadata": {},
          "execution_count": 7
        }
      ],
      "source": [
        "x = np.zeros(10)\n",
        "x[4]=1\n",
        "x"
      ]
    },
    {
      "cell_type": "markdown",
      "metadata": {
        "id": "nE1rr5Euy9ra"
      },
      "source": [
        "#### 7.  Create a vector with values ranging from 10 to 49 (★☆☆) \n",
        "(**hint**: np.arange)"
      ]
    },
    {
      "cell_type": "code",
      "execution_count": 8,
      "metadata": {
        "id": "zt3jIgKey9rb",
        "colab": {
          "base_uri": "https://localhost:8080/"
        },
        "outputId": "d2f83189-d7b8-4d9c-8ed2-a7855b2ae06d"
      },
      "outputs": [
        {
          "output_type": "execute_result",
          "data": {
            "text/plain": [
              "array([10, 11, 12, 13, 14, 15, 16, 17, 18, 19, 20, 21, 22, 23, 24, 25, 26,\n",
              "       27, 28, 29, 30, 31, 32, 33, 34, 35, 36, 37, 38, 39, 40, 41, 42, 43,\n",
              "       44, 45, 46, 47, 48])"
            ]
          },
          "metadata": {},
          "execution_count": 8
        }
      ],
      "source": [
        "x = np.arange(10,49)\n",
        "x"
      ]
    },
    {
      "cell_type": "markdown",
      "metadata": {
        "id": "YxR7mUyxy9rc"
      },
      "source": [
        "#### 8.  Reverse a vector (first element becomes last) (★☆☆) \n",
        "(**hint**: array\\[::-1\\])"
      ]
    },
    {
      "cell_type": "code",
      "execution_count": 9,
      "metadata": {
        "id": "4XNJwUrKy9rc",
        "colab": {
          "base_uri": "https://localhost:8080/"
        },
        "outputId": "69cafb67-0ad0-4486-e139-1577e1ae275e"
      },
      "outputs": [
        {
          "output_type": "execute_result",
          "data": {
            "text/plain": [
              "array([48, 47, 46, 45, 44, 43, 42, 41, 40, 39, 38, 37, 36, 35, 34, 33, 32,\n",
              "       31, 30, 29, 28, 27, 26, 25, 24, 23, 22, 21, 20, 19, 18, 17, 16, 15,\n",
              "       14, 13, 12, 11, 10])"
            ]
          },
          "metadata": {},
          "execution_count": 9
        }
      ],
      "source": [
        "x[::-1]"
      ]
    },
    {
      "cell_type": "markdown",
      "metadata": {
        "id": "Ddtlawuey9rd"
      },
      "source": [
        "#### 9.  Create a 3x3 matrix with values ranging from 0 to 8 (★☆☆) \n",
        "(**hint**: reshape)"
      ]
    },
    {
      "cell_type": "code",
      "execution_count": 10,
      "metadata": {
        "id": "Z0iSbGqzy9rd",
        "colab": {
          "base_uri": "https://localhost:8080/"
        },
        "outputId": "dcbe3f17-689b-4459-e1dd-96af8f4d0dd4"
      },
      "outputs": [
        {
          "output_type": "execute_result",
          "data": {
            "text/plain": [
              "array([[0, 1, 2],\n",
              "       [3, 4, 5],\n",
              "       [6, 7, 8]])"
            ]
          },
          "metadata": {},
          "execution_count": 10
        }
      ],
      "source": [
        "x = np.arange(9).reshape((3,3))\n",
        "x"
      ]
    },
    {
      "cell_type": "markdown",
      "metadata": {
        "id": "DmHNsvPcy9re"
      },
      "source": [
        "#### 10. Find indices of non-zero elements from \\[1,2,0,0,4,0\\] (★☆☆) \n",
        "(**hint**: np.nonzero)"
      ]
    },
    {
      "cell_type": "code",
      "execution_count": 11,
      "metadata": {
        "id": "_bOSr5yyy9re",
        "colab": {
          "base_uri": "https://localhost:8080/"
        },
        "outputId": "3b24a5c5-50f9-4ebf-c53d-0c39a7c54b2c"
      },
      "outputs": [
        {
          "output_type": "execute_result",
          "data": {
            "text/plain": [
              "(array([0, 1, 4]),)"
            ]
          },
          "metadata": {},
          "execution_count": 11
        }
      ],
      "source": [
        "x = np.nonzero([1,2,0,0,4,0])\n",
        "x"
      ]
    },
    {
      "cell_type": "markdown",
      "metadata": {
        "id": "zlpjUR0py9re"
      },
      "source": [
        "#### 11. Create a 3x3 identity matrix (★☆☆) \n",
        "(**hint**: np.eye)"
      ]
    },
    {
      "cell_type": "code",
      "execution_count": 12,
      "metadata": {
        "id": "gmSFPaCuy9rf",
        "colab": {
          "base_uri": "https://localhost:8080/"
        },
        "outputId": "05d91fe0-c0cd-41b1-91fe-634e85a04254"
      },
      "outputs": [
        {
          "output_type": "execute_result",
          "data": {
            "text/plain": [
              "array([[1., 0., 0.],\n",
              "       [0., 1., 0.],\n",
              "       [0., 0., 1.]])"
            ]
          },
          "metadata": {},
          "execution_count": 12
        }
      ],
      "source": [
        "x = np.eye(3,3)\n",
        "x"
      ]
    },
    {
      "cell_type": "markdown",
      "metadata": {
        "id": "owEH3OMRy9rf"
      },
      "source": [
        "#### 12. Create a 3x3x3 array with random values (★☆☆) \n",
        "(**hint**: np.random.random)"
      ]
    },
    {
      "cell_type": "code",
      "execution_count": 13,
      "metadata": {
        "collapsed": true,
        "id": "7I_hGp0Dy9rg",
        "colab": {
          "base_uri": "https://localhost:8080/"
        },
        "outputId": "8b9e092b-7c72-483f-f182-d8cb873198e5"
      },
      "outputs": [
        {
          "output_type": "execute_result",
          "data": {
            "text/plain": [
              "array([[0.42917055, 0.50086586, 0.01196285],\n",
              "       [0.23415128, 0.85063537, 0.22835637],\n",
              "       [0.71385524, 0.78727201, 0.23570804]])"
            ]
          },
          "metadata": {},
          "execution_count": 13
        }
      ],
      "source": [
        "x = np.random.random((3,3))\n",
        "x"
      ]
    },
    {
      "cell_type": "markdown",
      "metadata": {
        "id": "ChKYR4wPy9rg"
      },
      "source": [
        "#### 13. Create a 10x10 array with random values and find the minimum and maximum values (★☆☆) \n",
        "(**hint**: min, max)"
      ]
    },
    {
      "cell_type": "code",
      "execution_count": 14,
      "metadata": {
        "id": "T0U7os-8y9rh",
        "colab": {
          "base_uri": "https://localhost:8080/"
        },
        "outputId": "c9a3b04b-e27b-4868-8840-a818f6d02b36"
      },
      "outputs": [
        {
          "output_type": "stream",
          "name": "stdout",
          "text": [
            "0.01650178791019008\n",
            "0.9950613696964059\n"
          ]
        }
      ],
      "source": [
        "x = np.random.random((10,10))\n",
        "\n",
        "print(x.min())\n",
        "print(x.max())"
      ]
    },
    {
      "cell_type": "markdown",
      "metadata": {
        "id": "UyoU75GEy9rh"
      },
      "source": [
        "#### 14. Create a random vector of size 30 and find the mean value (★☆☆) \n",
        "(**hint**: mean)"
      ]
    },
    {
      "cell_type": "code",
      "execution_count": 15,
      "metadata": {
        "id": "sJzJm671y9ri",
        "colab": {
          "base_uri": "https://localhost:8080/"
        },
        "outputId": "db1c9488-fdd9-4b5b-daa8-76adcdd50ab1"
      },
      "outputs": [
        {
          "output_type": "stream",
          "name": "stdout",
          "text": [
            "0.501194681986265\n"
          ]
        }
      ],
      "source": [
        "x = np.random.random(30)\n",
        "print(x.mean())"
      ]
    },
    {
      "cell_type": "markdown",
      "metadata": {
        "id": "P131RBYgy9ri"
      },
      "source": [
        "#### 15. Create a 2d array with 1 on the border and 0 inside (★☆☆) \n",
        "(**hint**: array\\[1:-1, 1:-1\\])"
      ]
    },
    {
      "cell_type": "code",
      "execution_count": 16,
      "metadata": {
        "id": "Mc8L_-zcy9rj",
        "colab": {
          "base_uri": "https://localhost:8080/"
        },
        "outputId": "b594f3a6-c613-478d-92bf-c8cb6b6eb1f4"
      },
      "outputs": [
        {
          "output_type": "execute_result",
          "data": {
            "text/plain": [
              "array([[1., 1., 1., 1., 1.],\n",
              "       [1., 0., 0., 0., 1.],\n",
              "       [1., 0., 0., 0., 1.],\n",
              "       [1., 0., 0., 0., 1.],\n",
              "       [1., 1., 1., 1., 1.]])"
            ]
          },
          "metadata": {},
          "execution_count": 16
        }
      ],
      "source": [
        "x = np.ones((5,5))\n",
        "x[1:-1,1:-1]=0\n",
        "x"
      ]
    },
    {
      "cell_type": "markdown",
      "metadata": {
        "id": "S-1hUnemy9rj"
      },
      "source": [
        "#### 16. How to add a border (filled with 0's) around an existing array? (★☆☆) \n",
        "(**hint**: np.pad)"
      ]
    },
    {
      "cell_type": "code",
      "execution_count": 17,
      "metadata": {
        "id": "dt9D1ylEy9rk",
        "colab": {
          "base_uri": "https://localhost:8080/"
        },
        "outputId": "ab741175-1b83-468f-aa0e-1319121126ad"
      },
      "outputs": [
        {
          "output_type": "execute_result",
          "data": {
            "text/plain": [
              "array([[0., 0., 0., 0., 0., 0., 0.],\n",
              "       [0., 1., 1., 1., 1., 1., 0.],\n",
              "       [0., 1., 0., 0., 0., 1., 0.],\n",
              "       [0., 1., 0., 0., 0., 1., 0.],\n",
              "       [0., 1., 0., 0., 0., 1., 0.],\n",
              "       [0., 1., 1., 1., 1., 1., 0.],\n",
              "       [0., 0., 0., 0., 0., 0., 0.]])"
            ]
          },
          "metadata": {},
          "execution_count": 17
        }
      ],
      "source": [
        "y = np.pad(x, pad_width=1, mode=\"constant\", constant_values=0)\n",
        "y"
      ]
    },
    {
      "cell_type": "markdown",
      "metadata": {
        "id": "4KRuItnqy9rk"
      },
      "source": [
        "#### 17. What is the result of the following expression? (★☆☆) \n",
        "(**hint**: NaN = not a number, inf = infinity)"
      ]
    },
    {
      "cell_type": "markdown",
      "metadata": {
        "id": "DBCeH4Duy9rl"
      },
      "source": [
        "```python\n",
        "0 * np.nan\n",
        "np.nan == np.nan\n",
        "np.inf > np.nan\n",
        "np.nan - np.nan\n",
        "0.3 == 3 * 0.1\n",
        "```"
      ]
    },
    {
      "cell_type": "code",
      "execution_count": 18,
      "metadata": {
        "id": "ZDcJ9lORy9rm",
        "colab": {
          "base_uri": "https://localhost:8080/"
        },
        "outputId": "a3e50970-19e9-42e0-9d54-beb4ddf2e14e"
      },
      "outputs": [
        {
          "output_type": "execute_result",
          "data": {
            "text/plain": [
              "False"
            ]
          },
          "metadata": {},
          "execution_count": 18
        }
      ],
      "source": [
        "0 * np.nan\n",
        "np.nan == np.nan\n",
        "np.inf > np.nan\n",
        "np.nan - np.nan\n",
        "0.3 == 3 * 0.1"
      ]
    },
    {
      "cell_type": "markdown",
      "metadata": {
        "id": "7OuUF6h0y9rp"
      },
      "source": [
        "#### 18. Create a 5x5 matrix with values 1,2,3,4 just below the diagonal (★☆☆) \n",
        "(**hint**: np.diag)"
      ]
    },
    {
      "cell_type": "code",
      "execution_count": 19,
      "metadata": {
        "id": "bNMvqgnKy9rr",
        "colab": {
          "base_uri": "https://localhost:8080/"
        },
        "outputId": "8db18796-80c1-43b3-e819-98eeebb4aa8a"
      },
      "outputs": [
        {
          "output_type": "execute_result",
          "data": {
            "text/plain": [
              "array([[0, 0, 0, 0, 0],\n",
              "       [1, 0, 0, 0, 0],\n",
              "       [0, 2, 0, 0, 0],\n",
              "       [0, 0, 3, 0, 0],\n",
              "       [0, 0, 0, 4, 0]])"
            ]
          },
          "metadata": {},
          "execution_count": 19
        }
      ],
      "source": [
        "x = np.diag([1,2,3,4],k=-1)\n",
        "x"
      ]
    },
    {
      "cell_type": "markdown",
      "metadata": {
        "id": "jQc_E_EGy9rr"
      },
      "source": [
        "#### 19. Create a 8x8 matrix and fill it with a checkerboard pattern (★☆☆) \n",
        "(**hint**: array\\[::2\\])"
      ]
    },
    {
      "cell_type": "code",
      "execution_count": 20,
      "metadata": {
        "id": "NyGK7i98y9rr",
        "colab": {
          "base_uri": "https://localhost:8080/"
        },
        "outputId": "440348b5-8aa3-4099-abfd-27d1acc0e392"
      },
      "outputs": [
        {
          "output_type": "execute_result",
          "data": {
            "text/plain": [
              "array([[0., 1., 0., 1., 0., 1., 0., 1.],\n",
              "       [1., 0., 1., 0., 1., 0., 1., 0.],\n",
              "       [0., 1., 0., 1., 0., 1., 0., 1.],\n",
              "       [1., 0., 1., 0., 1., 0., 1., 0.],\n",
              "       [0., 1., 0., 1., 0., 1., 0., 1.],\n",
              "       [1., 0., 1., 0., 1., 0., 1., 0.],\n",
              "       [0., 1., 0., 1., 0., 1., 0., 1.],\n",
              "       [1., 0., 1., 0., 1., 0., 1., 0.]])"
            ]
          },
          "metadata": {},
          "execution_count": 20
        }
      ],
      "source": [
        "x = np.zeros((8,8))\n",
        "x[1::2,::2] = 1\n",
        "x[::2,1::2] = 1\n",
        "x"
      ]
    },
    {
      "cell_type": "markdown",
      "metadata": {
        "id": "CepzTIqly9rs"
      },
      "source": [
        "#### 20. Consider a (6,7,8) shape array, what is the index (x,y,z) of the 100th element? \n",
        "(**hint**: np.unravel_index)"
      ]
    },
    {
      "cell_type": "code",
      "execution_count": 20,
      "metadata": {
        "id": "LNTSxBLhy9ru"
      },
      "outputs": [],
      "source": [
        ""
      ]
    },
    {
      "cell_type": "markdown",
      "metadata": {
        "id": "3yUFwDMgy9rv"
      },
      "source": [
        "#### 21. Create a checkerboard 8x8 matrix using the tile function (★☆☆) \n",
        "(**hint**: np.tile)"
      ]
    },
    {
      "cell_type": "code",
      "execution_count": 21,
      "metadata": {
        "id": "A79VrZhQy9rw",
        "colab": {
          "base_uri": "https://localhost:8080/"
        },
        "outputId": "c26d9543-fc5e-4b68-e541-dd3a1303845e"
      },
      "outputs": [
        {
          "output_type": "stream",
          "name": "stdout",
          "text": [
            "[[0 1 0 1 0 1 0 1]\n",
            " [1 0 1 0 1 0 1 0]\n",
            " [0 1 0 1 0 1 0 1]\n",
            " [1 0 1 0 1 0 1 0]\n",
            " [0 1 0 1 0 1 0 1]\n",
            " [1 0 1 0 1 0 1 0]\n",
            " [0 1 0 1 0 1 0 1]\n",
            " [1 0 1 0 1 0 1 0]]\n"
          ]
        }
      ],
      "source": [
        "l = []\n",
        "for i in range(8):\n",
        "  if i%2==0:\n",
        "    l.append(list(np.tile([0,1],int(8/2))))\n",
        "  else:\n",
        "    l.append(list(np.tile([1,0],int(8/2))))\n",
        "\n",
        "print(np.array(l))"
      ]
    },
    {
      "cell_type": "markdown",
      "metadata": {
        "id": "mdRahC8By9rw"
      },
      "source": [
        "#### 22. Normalize a 5x5 random matrix (★☆☆) \n",
        "(**hint**: (x - min) / (max - min))"
      ]
    },
    {
      "cell_type": "code",
      "execution_count": 22,
      "metadata": {
        "id": "DbO9FmO9y9ry",
        "colab": {
          "base_uri": "https://localhost:8080/"
        },
        "outputId": "242a421d-772f-403c-e73c-e94673381da3"
      },
      "outputs": [
        {
          "output_type": "execute_result",
          "data": {
            "text/plain": [
              "array([[ 0.66666667,  3.66666667,  2.66666667,  0.66666667,  5.66666667],\n",
              "       [ 0.66666667,  3.66666667,  0.66666667,  0.66666667, -0.33333333],\n",
              "       [ 2.66666667,  4.66666667,  2.66666667,  3.66666667,  4.66666667],\n",
              "       [ 1.66666667,  1.66666667,  1.66666667, -0.33333333,  4.66666667],\n",
              "       [ 2.66666667,  0.66666667,  2.66666667,  3.66666667,  5.66666667]])"
            ]
          },
          "metadata": {},
          "execution_count": 22
        }
      ],
      "source": [
        "x = np.random.randint(3,10,size=(5,5))\n",
        "x-x.min()/x.max()-x.min()"
      ]
    },
    {
      "cell_type": "markdown",
      "metadata": {
        "id": "lJkFp4Rxy9ry"
      },
      "source": [
        "#### 23. Create a custom dtype that describes a color as four unsigned bytes (RGBA) (★☆☆) \n",
        "(**hint**: np.dtype)"
      ]
    },
    {
      "cell_type": "code",
      "execution_count": 22,
      "metadata": {
        "collapsed": true,
        "id": "ihILC6ggy9ry"
      },
      "outputs": [],
      "source": [
        ""
      ]
    },
    {
      "cell_type": "markdown",
      "metadata": {
        "id": "2CHWN-Sxy9rz"
      },
      "source": [
        "#### 24. Multiply a 5x3 matrix by a 3x2 matrix (real matrix product) (★☆☆) \n",
        "(**hint**: np.dot | @)"
      ]
    },
    {
      "cell_type": "code",
      "execution_count": 23,
      "metadata": {
        "id": "ph9zcoNjy9rz",
        "colab": {
          "base_uri": "https://localhost:8080/"
        },
        "outputId": "68e3c788-926f-4585-f4df-c07d82e4798a"
      },
      "outputs": [
        {
          "output_type": "execute_result",
          "data": {
            "text/plain": [
              "array([[ 10,  13],\n",
              "       [ 28,  40],\n",
              "       [ 46,  67],\n",
              "       [ 64,  94],\n",
              "       [ 82, 121]])"
            ]
          },
          "metadata": {},
          "execution_count": 23
        }
      ],
      "source": [
        "x = np.arange(15).reshape((5,3))\n",
        "y = np.arange(6).reshape((3,2))\n",
        "np.dot(x,y)"
      ]
    },
    {
      "cell_type": "markdown",
      "metadata": {
        "id": "OSzPMtQdy9rz"
      },
      "source": [
        "#### 25. Given a 1D array, negate all elements which are between 3 and 8, in place. (★☆☆) \n",
        "(**hint**: >, <=)"
      ]
    },
    {
      "cell_type": "code",
      "execution_count": 24,
      "metadata": {
        "id": "CajdsH7Ny9r0",
        "colab": {
          "base_uri": "https://localhost:8080/"
        },
        "outputId": "8047ee37-2c6c-45e5-9c91-4489ff54faee"
      },
      "outputs": [
        {
          "output_type": "execute_result",
          "data": {
            "text/plain": [
              "array([ 1,  2, -3, -4, -5, -6, -7, -8,  9])"
            ]
          },
          "metadata": {},
          "execution_count": 24
        }
      ],
      "source": [
        "x = np.arange(1,10)\n",
        "n = (x>=3) & (x<=8)\n",
        "x[n] = x[n]*-1\n",
        "x"
      ]
    },
    {
      "cell_type": "markdown",
      "metadata": {
        "id": "dlyYuqt8y9r0"
      },
      "source": [
        "#### 26. What is the output of the following script? (★☆☆) \n",
        "(**hint**: np.sum)"
      ]
    },
    {
      "cell_type": "markdown",
      "metadata": {
        "id": "NwXmj60ay9r0"
      },
      "source": [
        "```python\n",
        "# Author: Jake VanderPlas\n",
        "\n",
        "print(sum(range(5),-1))\n",
        "from numpy import *\n",
        "print(sum(range(5),-1))\n",
        "```"
      ]
    },
    {
      "cell_type": "code",
      "execution_count": 25,
      "metadata": {
        "id": "uQglKseTy9r0",
        "colab": {
          "base_uri": "https://localhost:8080/"
        },
        "outputId": "e38210b2-06d7-4a3f-846e-6feca85f6cea"
      },
      "outputs": [
        {
          "output_type": "execute_result",
          "data": {
            "text/plain": [
              "10"
            ]
          },
          "metadata": {},
          "execution_count": 25
        }
      ],
      "source": [
        "9\n",
        "10"
      ]
    },
    {
      "cell_type": "markdown",
      "metadata": {
        "id": "cSMOWa_Ly9r0"
      },
      "source": [
        "#### 27. Consider an integer vector Z, which of these expressions are legal? (★☆☆)"
      ]
    },
    {
      "cell_type": "markdown",
      "metadata": {
        "id": "y9_TCQpky9r1"
      },
      "source": [
        "```python\n",
        "Z**Z\n",
        "2 << Z >> 2\n",
        "Z <- Z\n",
        "1j*Z\n",
        "Z/1/1\n",
        "Z<Z>Z\n",
        "```"
      ]
    },
    {
      "cell_type": "code",
      "execution_count": 26,
      "metadata": {
        "id": "hVHF9BuDy9r1",
        "colab": {
          "base_uri": "https://localhost:8080/",
          "height": 165
        },
        "outputId": "df47c67c-619c-45bb-9e60-fa664d7548fd"
      },
      "outputs": [
        {
          "output_type": "error",
          "ename": "NameError",
          "evalue": "ignored",
          "traceback": [
            "\u001b[0;31m---------------------------------------------------------------------------\u001b[0m",
            "\u001b[0;31mNameError\u001b[0m                                 Traceback (most recent call last)",
            "\u001b[0;32m<ipython-input-26-6d2bd9eb1fd1>\u001b[0m in \u001b[0;36m<module>\u001b[0;34m()\u001b[0m\n\u001b[0;32m----> 1\u001b[0;31m \u001b[0mZ\u001b[0m\u001b[0;34m<\u001b[0m\u001b[0mZ\u001b[0m\u001b[0;34m>\u001b[0m\u001b[0mZ\u001b[0m\u001b[0;34m\u001b[0m\u001b[0;34m\u001b[0m\u001b[0m\n\u001b[0m",
            "\u001b[0;31mNameError\u001b[0m: name 'Z' is not defined"
          ]
        }
      ],
      "source": [
        "Z<Z>Z"
      ]
    },
    {
      "cell_type": "markdown",
      "metadata": {
        "id": "3PrMnL_Uy9r1"
      },
      "source": [
        "#### 28. What are the result of the following expressions?"
      ]
    },
    {
      "cell_type": "markdown",
      "metadata": {
        "id": "oB8Be6F-y9r1"
      },
      "source": [
        "```python\n",
        "np.array(0) / np.array(0)\n",
        "np.array(0) // np.array(0)\n",
        "np.array([np.nan]).astype(int).astype(float)\n",
        "```"
      ]
    },
    {
      "cell_type": "code",
      "execution_count": null,
      "metadata": {
        "id": "lM5NT-SOy9r1"
      },
      "outputs": [],
      "source": [
        "nan\n",
        "0\n",
        "array([-9.22337204e+18])"
      ]
    },
    {
      "cell_type": "markdown",
      "metadata": {
        "id": "P6j8_eKFy9r2"
      },
      "source": [
        "#### 29. How to round away from zero a float array ? (★☆☆) \n",
        "(**hint**: np.uniform, np.copysign, np.ceil, np.abs)"
      ]
    },
    {
      "cell_type": "code",
      "execution_count": 28,
      "metadata": {
        "id": "BndBCgfTy9r2",
        "colab": {
          "base_uri": "https://localhost:8080/"
        },
        "outputId": "61a9f9d9-0008-49e9-c5b0-d752220942e3"
      },
      "outputs": [
        {
          "output_type": "execute_result",
          "data": {
            "text/plain": [
              "array([-1,  0,  2,  3,  4])"
            ]
          },
          "metadata": {},
          "execution_count": 28
        }
      ],
      "source": [
        "x = np.array([-1.2,-0.8,1.2,2.4,3.6])\n",
        "np.ceil(x).astype(int)"
      ]
    },
    {
      "cell_type": "markdown",
      "metadata": {
        "id": "o5LRTBKsy9r2"
      },
      "source": [
        "#### 30. How to find common values between two arrays? (★☆☆) \n",
        "(**hint**: np.intersect1d)"
      ]
    },
    {
      "cell_type": "code",
      "execution_count": 27,
      "metadata": {
        "id": "BTEqOyZoy9r2",
        "colab": {
          "base_uri": "https://localhost:8080/"
        },
        "outputId": "e33dae3d-94c2-4f77-ee09-97ecd3943e97"
      },
      "outputs": [
        {
          "output_type": "execute_result",
          "data": {
            "text/plain": [
              "array([1, 2, 4, 5])"
            ]
          },
          "metadata": {},
          "execution_count": 27
        }
      ],
      "source": [
        "x = np.array([1,2,3,4,5,6,7])\n",
        "y = np.array([4,5,2,1,10,11])\n",
        "np.intersect1d(x,y)"
      ]
    },
    {
      "cell_type": "markdown",
      "metadata": {
        "id": "me6t5eqQy9r2"
      },
      "source": [
        "#### 31. How to ignore all numpy warnings (not recommended)? (★☆☆) \n",
        "(**hint**: np.seterr, np.errstate)"
      ]
    },
    {
      "cell_type": "code",
      "execution_count": null,
      "metadata": {
        "id": "pvzkjuivy9r2"
      },
      "outputs": [],
      "source": [
        ""
      ]
    },
    {
      "cell_type": "markdown",
      "metadata": {
        "id": "IpZ7DXo9y9r2"
      },
      "source": [
        "#### 32. Is the following expressions true? (★☆☆) \n",
        "(**hint**: imaginary number)"
      ]
    },
    {
      "cell_type": "markdown",
      "metadata": {
        "id": "MYRazs97y9r3"
      },
      "source": [
        "```python\n",
        "np.sqrt(-1) == np.emath.sqrt(-1)\n",
        "```"
      ]
    },
    {
      "cell_type": "code",
      "execution_count": null,
      "metadata": {
        "id": "5OIi2e-Ny9r3"
      },
      "outputs": [],
      "source": [
        "No, False"
      ]
    },
    {
      "cell_type": "markdown",
      "metadata": {
        "id": "bfv56_U5y9r3"
      },
      "source": [
        "#### 33. How to get the dates of yesterday, today and tomorrow? (★☆☆) \n",
        "(**hint**: np.datetime64, np.timedelta64)"
      ]
    },
    {
      "cell_type": "code",
      "execution_count": 29,
      "metadata": {
        "collapsed": true,
        "id": "lkdd-MsUy9r3",
        "colab": {
          "base_uri": "https://localhost:8080/"
        },
        "outputId": "59b1a640-954a-4e2b-dff1-611121bbc909"
      },
      "outputs": [
        {
          "output_type": "stream",
          "name": "stdout",
          "text": [
            "2022-07-21\n",
            "2022-07-20\n",
            "2022-07-22\n"
          ]
        }
      ],
      "source": [
        "print(np.datetime64('today','D'))\n",
        "print(np.datetime64('today','D')-np.timedelta64(1,'D'))\n",
        "print(np.datetime64('today','D')+np.timedelta64(1,'D'))"
      ]
    },
    {
      "cell_type": "markdown",
      "metadata": {
        "id": "XAvQL6fDy9r3"
      },
      "source": [
        "#### 34. How to get all the dates corresponding to the month of July 2016? (★★☆) \n",
        "(**hint**: np.arange(dtype=datetime64\\['D'\\]))"
      ]
    },
    {
      "cell_type": "code",
      "execution_count": 30,
      "metadata": {
        "id": "emTnPWx-y9r3",
        "colab": {
          "base_uri": "https://localhost:8080/"
        },
        "outputId": "efb52298-2353-4118-fbdd-4a99b8d642ee"
      },
      "outputs": [
        {
          "output_type": "execute_result",
          "data": {
            "text/plain": [
              "array(['2016-07-01', '2016-07-02', '2016-07-03', '2016-07-04',\n",
              "       '2016-07-05', '2016-07-06', '2016-07-07', '2016-07-08',\n",
              "       '2016-07-09', '2016-07-10', '2016-07-11', '2016-07-12',\n",
              "       '2016-07-13', '2016-07-14', '2016-07-15', '2016-07-16',\n",
              "       '2016-07-17', '2016-07-18', '2016-07-19', '2016-07-20',\n",
              "       '2016-07-21', '2016-07-22', '2016-07-23', '2016-07-24',\n",
              "       '2016-07-25', '2016-07-26', '2016-07-27', '2016-07-28',\n",
              "       '2016-07-29', '2016-07-30', '2016-07-31'], dtype='datetime64[D]')"
            ]
          },
          "metadata": {},
          "execution_count": 30
        }
      ],
      "source": [
        "np.arange('2016-07','2016-08',dtype='datetime64[D]')"
      ]
    },
    {
      "cell_type": "markdown",
      "metadata": {
        "id": "IRAgk8p_y9r4"
      },
      "source": [
        "#### 35. How to compute ((A+B)\\*(-A/2)) in place (without copy)? (★★☆) \n",
        "(**hint**: np.add(out=), np.negative(out=), np.multiply(out=), np.divide(out=))"
      ]
    },
    {
      "cell_type": "code",
      "execution_count": 31,
      "metadata": {
        "id": "3-VuLLw_y9r4",
        "colab": {
          "base_uri": "https://localhost:8080/"
        },
        "outputId": "350f01a1-4d70-4904-c308-43a11d0589f1"
      },
      "outputs": [
        {
          "output_type": "execute_result",
          "data": {
            "text/plain": [
              "-20.0"
            ]
          },
          "metadata": {},
          "execution_count": 31
        }
      ],
      "source": [
        "np.multiply(np.add(4,6), np.divide(-4,2))"
      ]
    },
    {
      "cell_type": "markdown",
      "metadata": {
        "id": "HfN1HGVwy9r4"
      },
      "source": [
        "#### 36. Extract the integer part of a random array using 5 different methods (★★☆) \n",
        "(**hint**: %, np.floor, np.ceil, astype, np.trunc)"
      ]
    },
    {
      "cell_type": "code",
      "execution_count": 32,
      "metadata": {
        "id": "-Ag0RHrMy9r4",
        "colab": {
          "base_uri": "https://localhost:8080/"
        },
        "outputId": "d0c6737c-fcf5-4c3d-d6ba-962814fcd8da"
      },
      "outputs": [
        {
          "output_type": "stream",
          "name": "stdout",
          "text": [
            "[1 3 5 6 7]\n",
            "[1. 3. 5. 6. 7.]\n",
            "[2. 4. 6. 7. 8.]\n",
            "[1. 3. 5. 6. 7.]\n"
          ]
        }
      ],
      "source": [
        "x = np.array([1.2, 3.4, 5.6, 6.8, 7.1])\n",
        "print(x.astype(int))\n",
        "print(np.floor(x))\n",
        "print(np.ceil(x))\n",
        "print(np.trunc(x))"
      ]
    },
    {
      "cell_type": "markdown",
      "metadata": {
        "id": "By9jLUzpy9r4"
      },
      "source": [
        "#### 37. Create a 5x5 matrix with row values ranging from 0 to 4 (★★☆) \n",
        "(**hint**: np.arange)"
      ]
    },
    {
      "cell_type": "code",
      "execution_count": 33,
      "metadata": {
        "id": "URZipp9Fy9r5",
        "colab": {
          "base_uri": "https://localhost:8080/"
        },
        "outputId": "a0f911bf-2774-4de4-ac0d-71d8275773bc"
      },
      "outputs": [
        {
          "output_type": "execute_result",
          "data": {
            "text/plain": [
              "array([[0., 1., 2., 3., 4.],\n",
              "       [0., 1., 2., 3., 4.],\n",
              "       [0., 1., 2., 3., 4.],\n",
              "       [0., 1., 2., 3., 4.],\n",
              "       [0., 1., 2., 3., 4.]])"
            ]
          },
          "metadata": {},
          "execution_count": 33
        }
      ],
      "source": [
        "x = np.zeros((5,5))\n",
        "x = x + np.arange(5)\n",
        "x"
      ]
    },
    {
      "cell_type": "markdown",
      "metadata": {
        "id": "aPjHeyAIy9r5"
      },
      "source": [
        "#### 38. Consider a generator function that generates 10 integers and use it to build an array (★☆☆) \n",
        "(**hint**: np.fromiter)"
      ]
    },
    {
      "cell_type": "code",
      "execution_count": 34,
      "metadata": {
        "id": "NO_MFDLVy9r6",
        "colab": {
          "base_uri": "https://localhost:8080/"
        },
        "outputId": "47ca7d45-5373-473b-9e62-e58da4b0e335"
      },
      "outputs": [
        {
          "output_type": "execute_result",
          "data": {
            "text/plain": [
              "array([0, 1, 2, 3, 4, 5, 6, 7, 8, 9])"
            ]
          },
          "metadata": {},
          "execution_count": 34
        }
      ],
      "source": [
        "x = (i for i in range(10))\n",
        "np.fromiter(x,int)"
      ]
    },
    {
      "cell_type": "markdown",
      "metadata": {
        "id": "k65z_6g1y9r6"
      },
      "source": [
        "#### 39. Create a vector of size 10 with values ranging from 0 to 1, both excluded (★★☆) \n",
        "(**hint**: np.linspace)"
      ]
    },
    {
      "cell_type": "code",
      "execution_count": 35,
      "metadata": {
        "id": "qIoyK2wQy9r7",
        "colab": {
          "base_uri": "https://localhost:8080/"
        },
        "outputId": "86d31eed-6ce4-4b75-dd24-49fad3ea8a23"
      },
      "outputs": [
        {
          "output_type": "execute_result",
          "data": {
            "text/plain": [
              "array([0.        , 0.11111111, 0.22222222, 0.33333333, 0.44444444,\n",
              "       0.55555556, 0.66666667, 0.77777778, 0.88888889, 1.        ])"
            ]
          },
          "metadata": {},
          "execution_count": 35
        }
      ],
      "source": [
        "x = np.linspace(0,1,num=10)\n",
        "x"
      ]
    },
    {
      "cell_type": "markdown",
      "metadata": {
        "id": "2VvYpsohy9r7"
      },
      "source": [
        "#### 40. Create a random vector of size 10 and sort it (★★☆) \n",
        "(**hint**: sort)"
      ]
    },
    {
      "cell_type": "code",
      "execution_count": 36,
      "metadata": {
        "id": "hEFjSvk4y9r8",
        "colab": {
          "base_uri": "https://localhost:8080/"
        },
        "outputId": "b74e9072-3812-4fc7-9240-314bc8a84196"
      },
      "outputs": [
        {
          "output_type": "execute_result",
          "data": {
            "text/plain": [
              "array([13, 19, 20, 24, 30, 36, 37, 39, 41, 42])"
            ]
          },
          "metadata": {},
          "execution_count": 36
        }
      ],
      "source": [
        "x = np.random.randint(10,50,size=10)\n",
        "x.sort()\n",
        "x"
      ]
    },
    {
      "cell_type": "markdown",
      "metadata": {
        "id": "NZq7XrXBy9r8"
      },
      "source": [
        "#### 41. How to sum a small array faster than np.sum? (★★☆) \n",
        "(**hint**: np.add.reduce)"
      ]
    },
    {
      "cell_type": "code",
      "execution_count": 37,
      "metadata": {
        "id": "KLf9wNNay9r8",
        "colab": {
          "base_uri": "https://localhost:8080/"
        },
        "outputId": "e2cb6ddd-3b8a-4e68-fac2-e0e2ea672254"
      },
      "outputs": [
        {
          "output_type": "execute_result",
          "data": {
            "text/plain": [
              "58"
            ]
          },
          "metadata": {},
          "execution_count": 37
        }
      ],
      "source": [
        "x = np.array([2,3,4,5,10,15,12,7])\n",
        "np.add.reduce(x)"
      ]
    },
    {
      "cell_type": "markdown",
      "metadata": {
        "id": "upgQZWKpy9r8"
      },
      "source": [
        "#### 42. Consider two random array A and B, check if they are equal (★★☆) \n",
        "(**hint**: np.allclose, np.array\\_equal)"
      ]
    },
    {
      "cell_type": "code",
      "execution_count": 38,
      "metadata": {
        "id": "hDGSwOHzy9r9",
        "colab": {
          "base_uri": "https://localhost:8080/"
        },
        "outputId": "54633f5f-3d73-4d33-e8bb-4c359c93eaf5"
      },
      "outputs": [
        {
          "output_type": "execute_result",
          "data": {
            "text/plain": [
              "False"
            ]
          },
          "metadata": {},
          "execution_count": 38
        }
      ],
      "source": [
        "x = np.array([1,2,3,4,5,7])\n",
        "y = np.array([1,2,3,4,5,6])\n",
        "np.allclose(x,y)"
      ]
    },
    {
      "cell_type": "markdown",
      "metadata": {
        "id": "e55H5iJly9r9"
      },
      "source": [
        "#### 43. Make an array immutable (read-only) (★★☆) \n",
        "(**hint**: flags.writeable)"
      ]
    },
    {
      "cell_type": "code",
      "execution_count": 39,
      "metadata": {
        "id": "C73ZpDJ-y9r9",
        "colab": {
          "base_uri": "https://localhost:8080/"
        },
        "outputId": "1becc2ad-848f-4d6a-c49c-6196f837c2b2"
      },
      "outputs": [
        {
          "output_type": "execute_result",
          "data": {
            "text/plain": [
              "array([1, 2, 3, 4, 5, 1, 7])"
            ]
          },
          "metadata": {},
          "execution_count": 39
        }
      ],
      "source": [
        "x = np.array([1,2,3,4,5,6,7])\n",
        "x[5] = 1\n",
        "x.setflags(write=False)\n",
        "x"
      ]
    },
    {
      "cell_type": "markdown",
      "metadata": {
        "id": "utl1SrB-y9r9"
      },
      "source": [
        "#### 44. Consider a random 10x2 matrix representing cartesian coordinates, convert them to polar coordinates (★★☆) \n",
        "(**hint**: np.sqrt, np.arctan2)"
      ]
    },
    {
      "cell_type": "code",
      "execution_count": 40,
      "metadata": {
        "id": "2GCC_KCky9r9",
        "colab": {
          "base_uri": "https://localhost:8080/"
        },
        "outputId": "6b4f56a7-2d00-442d-f8d5-b9d1496ca45a"
      },
      "outputs": [
        {
          "output_type": "execute_result",
          "data": {
            "text/plain": [
              "array([[0.        , 1.        ],\n",
              "       [1.41421356, 1.73205081],\n",
              "       [2.        , 2.23606798],\n",
              "       [2.44948974, 2.64575131],\n",
              "       [2.82842712, 3.        ],\n",
              "       [3.16227766, 3.31662479],\n",
              "       [3.46410162, 3.60555128],\n",
              "       [3.74165739, 3.87298335],\n",
              "       [4.        , 4.12310563],\n",
              "       [4.24264069, 4.35889894]])"
            ]
          },
          "metadata": {},
          "execution_count": 40
        }
      ],
      "source": [
        "x = np.arange(20).reshape((10,2))\n",
        "np.sqrt(x)"
      ]
    },
    {
      "cell_type": "markdown",
      "metadata": {
        "id": "71Tezmn-y9r9"
      },
      "source": [
        "#### 45. Create random vector of size 10 and replace the maximum value by 0 (★★☆) \n",
        "(**hint**: argmax)"
      ]
    },
    {
      "cell_type": "code",
      "execution_count": 41,
      "metadata": {
        "id": "JMB3lSqay9r9",
        "colab": {
          "base_uri": "https://localhost:8080/"
        },
        "outputId": "ef59a5ec-59b0-4bb9-ffa1-c1b0ed6295bd"
      },
      "outputs": [
        {
          "output_type": "stream",
          "name": "stdout",
          "text": [
            "[25 49 42 14 31 14 49 47 41 37]\n",
            "[25  0 42 14 31 14 49 47 41 37]\n"
          ]
        }
      ],
      "source": [
        "x = np.random.randint(10,50,size=10)\n",
        "print(x)\n",
        "x[x.argmax()] = 0\n",
        "print(x)"
      ]
    },
    {
      "cell_type": "markdown",
      "metadata": {
        "id": "IveRaBs0y9r-"
      },
      "source": [
        "#### 46. Create a structured array with `x` and `y` coordinates covering the \\[0,1\\]x\\[0,1\\] area (★★☆) \n",
        "(**hint**: np.meshgrid)"
      ]
    },
    {
      "cell_type": "code",
      "execution_count": 42,
      "metadata": {
        "id": "rWjLDlaIy9r-",
        "colab": {
          "base_uri": "https://localhost:8080/"
        },
        "outputId": "28b1d079-991a-482e-adee-260ee2950bb1"
      },
      "outputs": [
        {
          "output_type": "stream",
          "name": "stdout",
          "text": [
            "[[-5.  -2.5  0.   2.5  5. ]\n",
            " [-5.  -2.5  0.   2.5  5. ]\n",
            " [-5.  -2.5  0.   2.5  5. ]\n",
            " [-5.  -2.5  0.   2.5  5. ]\n",
            " [-5.  -2.5  0.   2.5  5. ]]\n",
            "/n\n",
            "[[-5.  -5.  -5.  -5.  -5. ]\n",
            " [-2.5 -2.5 -2.5 -2.5 -2.5]\n",
            " [ 0.   0.   0.   0.   0. ]\n",
            " [ 2.5  2.5  2.5  2.5  2.5]\n",
            " [ 5.   5.   5.   5.   5. ]]\n"
          ]
        }
      ],
      "source": [
        "x = np.linspace(-5,5,5)\n",
        "y = np.linspace(-5,5,5)\n",
        "\n",
        "X,Y = np.meshgrid(x,y)\n",
        "print(X)\n",
        "print('/n')\n",
        "print(Y)"
      ]
    },
    {
      "cell_type": "markdown",
      "metadata": {
        "id": "x5k1PSXpy9r-"
      },
      "source": [
        "####  47. Given two arrays, X and Y, construct the Cauchy matrix C (Cij =1/(xi - yj)) \n",
        "(**hint**: np.subtract.outer)"
      ]
    },
    {
      "cell_type": "code",
      "execution_count": 43,
      "metadata": {
        "id": "-QDRNL2Ry9r-",
        "colab": {
          "base_uri": "https://localhost:8080/"
        },
        "outputId": "ab2ac74a-2ef3-4f62-8429-bd1c269e5269"
      },
      "outputs": [
        {
          "output_type": "stream",
          "name": "stderr",
          "text": [
            "/usr/local/lib/python3.7/dist-packages/ipykernel_launcher.py:4: RuntimeWarning: divide by zero encountered in true_divide\n",
            "  after removing the cwd from sys.path.\n"
          ]
        },
        {
          "output_type": "execute_result",
          "data": {
            "text/plain": [
              "array([[-0.5       , -0.29032258, -0.20454545, -0.15789474, -0.12857143,\n",
              "        -0.10843373, -0.09375   , -0.08256881, -0.07377049, -0.06666667],\n",
              "       [-3.        , -0.5625    , -0.31034483, -0.21428571, -0.16363636,\n",
              "        -0.13235294, -0.11111111, -0.09574468, -0.08411215, -0.075     ],\n",
              "       [ 0.75      , -9.        , -0.64285714, -0.33333333, -0.225     ,\n",
              "        -0.16981132, -0.13636364, -0.11392405, -0.09782609, -0.08571429],\n",
              "       [ 0.33333333,  0.64285714,  9.        , -0.75      , -0.36      ,\n",
              "        -0.23684211, -0.17647059, -0.140625  , -0.11688312, -0.1       ],\n",
              "       [ 0.21428571,  0.31034483,  0.5625    ,  3.        , -0.9       ,\n",
              "        -0.39130435, -0.25      , -0.18367347, -0.14516129, -0.12      ],\n",
              "       [ 0.15789474,  0.20454545,  0.29032258,  0.5       ,  1.8       ,\n",
              "        -1.125     , -0.42857143, -0.26470588, -0.19148936, -0.15      ],\n",
              "       [ 0.125     ,  0.15254237,  0.19565217,  0.27272727,  0.45      ,\n",
              "         1.28571429, -1.5       , -0.47368421, -0.28125   , -0.2       ],\n",
              "       [ 0.10344828,  0.12162162,  0.14754098,  0.1875    ,  0.25714286,\n",
              "         0.40909091,  1.        , -2.25      , -0.52941176, -0.3       ],\n",
              "       [ 0.08823529,  0.1011236 ,  0.11842105,  0.14285714,  0.18      ,\n",
              "         0.24324324,  0.375     ,  0.81818182, -4.5       , -0.6       ],\n",
              "       [ 0.07692308,  0.08653846,  0.0989011 ,  0.11538462,  0.13846154,\n",
              "         0.17307692,  0.23076923,  0.34615385,  0.69230769,         inf]])"
            ]
          },
          "metadata": {},
          "execution_count": 43
        }
      ],
      "source": [
        "x = np.linspace(-10,5,10)\n",
        "y = np.linspace(-8,5,10)\n",
        "\n",
        "c = 1/np.subtract.outer(x,y)\n",
        "c"
      ]
    },
    {
      "cell_type": "markdown",
      "metadata": {
        "id": "9OuB_HIky9r-"
      },
      "source": [
        "#### 48. Print the minimum and maximum representable value for each numpy scalar type (★★☆) \n",
        "(**hint**: np.iinfo, np.finfo, eps)"
      ]
    },
    {
      "cell_type": "code",
      "execution_count": 44,
      "metadata": {
        "id": "cnCJQjYey9r-",
        "colab": {
          "base_uri": "https://localhost:8080/"
        },
        "outputId": "cbd92590-efce-4092-df8f-185bf3f64e15"
      },
      "outputs": [
        {
          "output_type": "stream",
          "name": "stdout",
          "text": [
            "Machine parameters for int16\n",
            "---------------------------------------------------------------\n",
            "min = -32768\n",
            "max = 32767\n",
            "---------------------------------------------------------------\n",
            "\n",
            "Machine parameters for int32\n",
            "---------------------------------------------------------------\n",
            "min = -2147483648\n",
            "max = 2147483647\n",
            "---------------------------------------------------------------\n",
            "\n",
            "Machine parameters for float16\n",
            "---------------------------------------------------------------\n",
            "precision =   3   resolution = 1.00040e-03\n",
            "machep =    -10   eps =        9.76562e-04\n",
            "negep =     -11   epsneg =     4.88281e-04\n",
            "minexp =    -14   tiny =       6.10352e-05\n",
            "maxexp =     16   max =        6.55040e+04\n",
            "nexp =        5   min =        -max\n",
            "---------------------------------------------------------------\n",
            "\n"
          ]
        }
      ],
      "source": [
        "x = np.iinfo(np.int16)\n",
        "y = np.iinfo(np.int32)\n",
        "f = np.finfo(np.float16)\n",
        "print(x)\n",
        "print(y)\n",
        "print(f)"
      ]
    },
    {
      "cell_type": "markdown",
      "metadata": {
        "id": "0VlD9ePdy9r-"
      },
      "source": [
        "#### 49. How to print all the values of an array? (★★☆) \n",
        "(**hint**: np.set\\_printoptions)"
      ]
    },
    {
      "cell_type": "code",
      "execution_count": 57,
      "metadata": {
        "id": "gucA7-I1y9r_",
        "colab": {
          "base_uri": "https://localhost:8080/"
        },
        "outputId": "c2584981-7d88-4500-e7cc-c97444d430a3"
      },
      "outputs": [
        {
          "output_type": "stream",
          "name": "stdout",
          "text": [
            "[[1. 1. 1. 1. 1.]\n",
            " [1. 1. 1. 1. 1.]\n",
            " [1. 1. 1. 1. 1.]\n",
            " [1. 1. 1. 1. 1.]\n",
            " [1. 1. 1. 1. 1.]]\n"
          ]
        }
      ],
      "source": [
        "x = np.set_printoptions(threshold=np.inf)\n",
        "x = np.ones((5,5))\n",
        "print(x)"
      ]
    },
    {
      "cell_type": "markdown",
      "metadata": {
        "id": "E6nj1s32y9r_"
      },
      "source": [
        "#### 50. How to find the closest value (to a given scalar) in a vector? (★★☆) \n",
        "(**hint**: argmin)"
      ]
    },
    {
      "cell_type": "code",
      "execution_count": 65,
      "metadata": {
        "id": "vPHal5Rny9r_",
        "colab": {
          "base_uri": "https://localhost:8080/"
        },
        "outputId": "18dc4379-5fb8-4d22-b48b-b7f84269ac91"
      },
      "outputs": [
        {
          "output_type": "stream",
          "name": "stdout",
          "text": [
            "5.04513201107094\n",
            "5\n"
          ]
        }
      ],
      "source": [
        "x = np.arange(50)\n",
        "y = np.random.uniform(0,50)\n",
        "i = (np.abs(x-y)).argmin()\n",
        "print(y)\n",
        "print(i)"
      ]
    },
    {
      "cell_type": "markdown",
      "metadata": {
        "id": "C0LPCvPQy9r_"
      },
      "source": [
        "#### 51. Create a structured array representing a position (x,y) and a color (r,g,b) (★★☆) \n",
        "(**hint**: dtype)"
      ]
    },
    {
      "cell_type": "code",
      "execution_count": 74,
      "metadata": {
        "id": "xJ_Xdk3ky9r_",
        "colab": {
          "base_uri": "https://localhost:8080/"
        },
        "outputId": "93a27e8d-21b0-4c35-af68-de71f35ba191"
      },
      "outputs": [
        {
          "output_type": "stream",
          "name": "stdout",
          "text": [
            "[((0., 0.), (0., 0., 0.)) ((0., 0.), (0., 0., 0.))\n",
            " ((0., 0.), (0., 0., 0.)) ((0., 0.), (0., 0., 0.))\n",
            " ((0., 0.), (0., 0., 0.)) ((0., 0.), (0., 0., 0.))\n",
            " ((0., 0.), (0., 0., 0.)) ((0., 0.), (0., 0., 0.))\n",
            " ((0., 0.), (0., 0., 0.)) ((0., 0.), (0., 0., 0.))\n",
            " ((0., 0.), (0., 0., 0.)) ((0., 0.), (0., 0., 0.))\n",
            " ((0., 0.), (0., 0., 0.)) ((0., 0.), (0., 0., 0.))\n",
            " ((0., 0.), (0., 0., 0.)) ((0., 0.), (0., 0., 0.))\n",
            " ((0., 0.), (0., 0., 0.)) ((0., 0.), (0., 0., 0.))\n",
            " ((0., 0.), (0., 0., 0.)) ((0., 0.), (0., 0., 0.))]\n"
          ]
        },
        {
          "output_type": "stream",
          "name": "stderr",
          "text": [
            "/usr/local/lib/python3.7/dist-packages/ipykernel_launcher.py:5: FutureWarning: Passing (type, 1) or '1type' as a synonym of type is deprecated; in a future version of numpy, it will be understood as (type, (1,)) / '(1,)type'.\n",
            "  \"\"\"\n"
          ]
        }
      ],
      "source": [
        "x = np.zeros(20, [ ('position', [ ('x', float, 1),\n",
        "                                   ('y', float, 1)]),\n",
        "                    ('color',    [ ('r', float, 1),\n",
        "                                   ('g', float, 1),\n",
        "                                   ('b', float, 1)])])\n",
        "print(x)"
      ]
    },
    {
      "cell_type": "markdown",
      "metadata": {
        "id": "jGq7uAzny9r_"
      },
      "source": [
        "#### 52. Consider a random vector with shape (100,2) representing coordinates, find point by point distances (★★☆) \n",
        "(**hint**: np.atleast\\_2d, T, np.sqrt)"
      ]
    },
    {
      "cell_type": "code",
      "execution_count": null,
      "metadata": {
        "id": "HT7hteFny9sA"
      },
      "outputs": [],
      "source": [
        ""
      ]
    },
    {
      "cell_type": "markdown",
      "metadata": {
        "id": "F_YS0AdKy9sA"
      },
      "source": [
        "#### 53. How to convert a float (32 bits) array into an integer (32 bits) in place? \n",
        "(**hint**: astype(copy=False))"
      ]
    },
    {
      "cell_type": "code",
      "execution_count": 79,
      "metadata": {
        "id": "-dYI7vQzy9sA",
        "colab": {
          "base_uri": "https://localhost:8080/"
        },
        "outputId": "2e8f1605-64d5-4228-cbfe-00342d50b9a7"
      },
      "outputs": [
        {
          "output_type": "execute_result",
          "data": {
            "text/plain": [
              "array([ 0.,  1.,  2.,  3.,  4.,  5.,  6.,  7.,  8.,  9., 10., 11., 12.,\n",
              "       13., 14., 15., 16., 17., 18., 19.], dtype=float32)"
            ]
          },
          "metadata": {},
          "execution_count": 79
        }
      ],
      "source": [
        "x = np.arange(20, dtype=np.int32)\n",
        "x = x.astype(np.float32, copy=True)\n",
        "x"
      ]
    },
    {
      "cell_type": "markdown",
      "metadata": {
        "id": "SLaqzQGSy9sA"
      },
      "source": [
        "#### 54. How to read the following file? (★★☆) \n",
        "(**hint**: np.genfromtxt)"
      ]
    },
    {
      "cell_type": "markdown",
      "metadata": {
        "id": "y4fcddDYy9sA"
      },
      "source": [
        "```\n",
        "1, 2, 3, 4, 5\n",
        "6,  ,  , 7, 8\n",
        " ,  , 9,10,11\n",
        "```"
      ]
    },
    {
      "cell_type": "code",
      "execution_count": null,
      "metadata": {
        "id": "xWxNoHXQy9sA"
      },
      "outputs": [],
      "source": [
        "x = np.genfromtxt(\"missing.dat\", delimiter=\",\")\n"
      ]
    },
    {
      "cell_type": "markdown",
      "metadata": {
        "id": "BChu3gESy9sB"
      },
      "source": [
        "#### 55. What is the equivalent of enumerate for numpy arrays? (★★☆) \n",
        "(**hint**: np.ndenumerate, np.ndindex)"
      ]
    },
    {
      "cell_type": "code",
      "execution_count": 82,
      "metadata": {
        "id": "mDApCKNny9sB",
        "colab": {
          "base_uri": "https://localhost:8080/"
        },
        "outputId": "c30e8643-dc1b-4db2-e3e8-aae6c890e018"
      },
      "outputs": [
        {
          "output_type": "stream",
          "name": "stdout",
          "text": [
            "(0, 0) 0\n",
            "(0, 1) 1\n",
            "(0, 2) 2\n",
            "(0, 3) 3\n",
            "(1, 0) 4\n",
            "(1, 1) 5\n",
            "(1, 2) 6\n",
            "(1, 3) 7\n",
            "(2, 0) 8\n",
            "(2, 1) 9\n",
            "(2, 2) 10\n",
            "(2, 3) 11\n",
            "(3, 0) 12\n",
            "(3, 1) 13\n",
            "(3, 2) 14\n",
            "(3, 3) 15\n",
            "(0, 0) 0\n",
            "(0, 1) 1\n",
            "(0, 2) 2\n",
            "(0, 3) 3\n",
            "(1, 0) 4\n",
            "(1, 1) 5\n",
            "(1, 2) 6\n",
            "(1, 3) 7\n",
            "(2, 0) 8\n",
            "(2, 1) 9\n",
            "(2, 2) 10\n",
            "(2, 3) 11\n",
            "(3, 0) 12\n",
            "(3, 1) 13\n",
            "(3, 2) 14\n",
            "(3, 3) 15\n"
          ]
        }
      ],
      "source": [
        "x = np.arange(16).reshape((4,4))\n",
        "for i, j in np.ndenumerate(x):\n",
        "    print(i,j)\n",
        "for i in np.ndindex(x.shape):\n",
        "    print(i, x[i])"
      ]
    },
    {
      "cell_type": "markdown",
      "metadata": {
        "id": "s-jh2iHmy9sB"
      },
      "source": [
        "#### 56. Generate a generic 2D Gaussian-like array (★★☆) \n",
        "(**hint**: np.meshgrid, np.exp)"
      ]
    },
    {
      "cell_type": "code",
      "execution_count": 3,
      "metadata": {
        "id": "gxjEj-2Ky9sB",
        "colab": {
          "base_uri": "https://localhost:8080/"
        },
        "outputId": "52132a16-123d-44b7-89e4-b1fd512f106d"
      },
      "outputs": [
        {
          "output_type": "stream",
          "name": "stdout",
          "text": [
            "[[0.36787944 0.44822088 0.51979489 0.57375342 0.60279818 0.60279818\n",
            "  0.57375342 0.51979489 0.44822088 0.36787944]\n",
            " [0.44822088 0.54610814 0.63331324 0.69905581 0.73444367 0.73444367\n",
            "  0.69905581 0.63331324 0.54610814 0.44822088]\n",
            " [0.51979489 0.63331324 0.73444367 0.81068432 0.85172308 0.85172308\n",
            "  0.81068432 0.73444367 0.63331324 0.51979489]\n",
            " [0.57375342 0.69905581 0.81068432 0.89483932 0.9401382  0.9401382\n",
            "  0.89483932 0.81068432 0.69905581 0.57375342]\n",
            " [0.60279818 0.73444367 0.85172308 0.9401382  0.98773022 0.98773022\n",
            "  0.9401382  0.85172308 0.73444367 0.60279818]\n",
            " [0.60279818 0.73444367 0.85172308 0.9401382  0.98773022 0.98773022\n",
            "  0.9401382  0.85172308 0.73444367 0.60279818]\n",
            " [0.57375342 0.69905581 0.81068432 0.89483932 0.9401382  0.9401382\n",
            "  0.89483932 0.81068432 0.69905581 0.57375342]\n",
            " [0.51979489 0.63331324 0.73444367 0.81068432 0.85172308 0.85172308\n",
            "  0.81068432 0.73444367 0.63331324 0.51979489]\n",
            " [0.44822088 0.54610814 0.63331324 0.69905581 0.73444367 0.73444367\n",
            "  0.69905581 0.63331324 0.54610814 0.44822088]\n",
            " [0.36787944 0.44822088 0.51979489 0.57375342 0.60279818 0.60279818\n",
            "  0.57375342 0.51979489 0.44822088 0.36787944]]\n"
          ]
        }
      ],
      "source": [
        "x,y = np.meshgrid(np.linspace(-1,1,10), np.linspace(-1,1,10))\n",
        "l = np.sqrt(x*x+y*y)\n",
        "sigma, mu = 1.0, 0.0\n",
        "g = np.exp(-( (l-mu)**2 / ( 2.0 * sigma**2 ) ) )\n",
        "print(g)"
      ]
    },
    {
      "cell_type": "markdown",
      "metadata": {
        "id": "rYTbHduiy9sB"
      },
      "source": [
        "#### 57. How to randomly place p elements in a 2D array? (★★☆) \n",
        "(**hint**: np.put, np.random.choice)"
      ]
    },
    {
      "cell_type": "code",
      "execution_count": 4,
      "metadata": {
        "id": "Hka87ZQ0y9sB",
        "colab": {
          "base_uri": "https://localhost:8080/"
        },
        "outputId": "7942b88b-08b0-4398-ded5-0754a6b0dfa4"
      },
      "outputs": [
        {
          "output_type": "stream",
          "name": "stdout",
          "text": [
            "[[0. 0. 0. 0. 0. 0. 0. 0. 0. 0.]\n",
            " [0. 0. 0. 0. 0. 0. 0. 0. 0. 0.]\n",
            " [0. 0. 0. 0. 0. 0. 0. 0. 0. 0.]\n",
            " [0. 0. 0. 0. 0. 0. 0. 0. 0. 0.]\n",
            " [0. 0. 1. 0. 0. 0. 0. 0. 0. 0.]\n",
            " [0. 0. 0. 0. 0. 0. 0. 0. 1. 0.]\n",
            " [0. 0. 0. 0. 0. 1. 0. 0. 0. 0.]\n",
            " [0. 0. 0. 0. 0. 0. 0. 0. 0. 0.]\n",
            " [0. 0. 0. 0. 0. 0. 0. 0. 0. 0.]\n",
            " [0. 0. 0. 0. 0. 0. 0. 0. 0. 0.]]\n"
          ]
        }
      ],
      "source": [
        "n = 10\n",
        "p = 3\n",
        "x = np.zeros((n,n))\n",
        "np.put(x, np.random.choice(range(n*n), p, replace=False),1)\n",
        "print(x)"
      ]
    },
    {
      "cell_type": "markdown",
      "metadata": {
        "id": "Xmmcp3EJy9sB"
      },
      "source": [
        "#### 58. Subtract the mean of each row of a matrix (★★☆) \n",
        "(**hint**: mean(axis=,keepdims=))"
      ]
    },
    {
      "cell_type": "code",
      "execution_count": 5,
      "metadata": {
        "id": "ZF4ny3Thy9sC",
        "colab": {
          "base_uri": "https://localhost:8080/"
        },
        "outputId": "66e24b15-e82f-422a-9c62-52fcd37bc95a"
      },
      "outputs": [
        {
          "output_type": "execute_result",
          "data": {
            "text/plain": [
              "array([[ 0.00347663,  0.14822747,  0.36673846,  0.01948273, -0.12761905,\n",
              "         0.37755666, -0.34155912,  0.09087022, -0.18189805, -0.35527594],\n",
              "       [-0.1829734 ,  0.16332894, -0.00437178, -0.38861794,  0.30962879,\n",
              "         0.10198975,  0.12678203,  0.09424766, -0.38896595,  0.1689519 ],\n",
              "       [-0.13202893,  0.51144806, -0.02190592, -0.09756051, -0.41011359,\n",
              "        -0.22044669,  0.40910015, -0.12576558,  0.15455263, -0.06727962],\n",
              "       [ 0.31754434, -0.06804244, -0.36639452,  0.45816747, -0.42956332,\n",
              "        -0.42815804,  0.25362467, -0.33458352,  0.08353025,  0.51387511],\n",
              "       [ 0.28424405,  0.13628372,  0.31625918,  0.05049035,  0.21149003,\n",
              "        -0.01658568, -0.41799164, -0.39841277,  0.28263496, -0.44841219]])"
            ]
          },
          "metadata": {},
          "execution_count": 5
        }
      ],
      "source": [
        "x = np.random.rand(5, 10)\n",
        "y = x - x.mean(axis=1, keepdims=True)\n",
        "y"
      ]
    },
    {
      "cell_type": "markdown",
      "metadata": {
        "id": "U02YoD9xy9sC"
      },
      "source": [
        "#### 59. How to sort an array by the nth column? (★★☆) \n",
        "(**hint**: argsort)"
      ]
    },
    {
      "cell_type": "code",
      "execution_count": 6,
      "metadata": {
        "id": "dRfO1tuPy9sC",
        "colab": {
          "base_uri": "https://localhost:8080/"
        },
        "outputId": "8066ef4d-c677-4bea-e53a-ad7fce5154b9"
      },
      "outputs": [
        {
          "output_type": "stream",
          "name": "stdout",
          "text": [
            "[[1 1 2]\n",
            " [8 3 1]\n",
            " [3 8 8]]\n",
            "[[1 1 2]\n",
            " [8 3 1]\n",
            " [3 8 8]]\n"
          ]
        }
      ],
      "source": [
        "x = np.random.randint(0,10,(3,3))\n",
        "print(x)\n",
        "print(x[x[:,1].argsort()])"
      ]
    },
    {
      "cell_type": "markdown",
      "metadata": {
        "id": "AW8WlgSjy9sC"
      },
      "source": [
        "#### 60. How to tell if a given 2D array has null columns? (★★☆) \n",
        "(**hint**: any, ~)"
      ]
    },
    {
      "cell_type": "code",
      "execution_count": 7,
      "metadata": {
        "id": "Q4x9QFmzy9sD",
        "colab": {
          "base_uri": "https://localhost:8080/"
        },
        "outputId": "c543cd21-3931-49c6-cbed-4bf0121bd159"
      },
      "outputs": [
        {
          "output_type": "stream",
          "name": "stdout",
          "text": [
            "True\n"
          ]
        }
      ],
      "source": [
        "x = np.random.randint(0,3,(3,10))\n",
        "print((~x.any(axis=0)).any())"
      ]
    },
    {
      "cell_type": "markdown",
      "metadata": {
        "id": "HmkpVFYVy9sD"
      },
      "source": [
        "#### 61. Find the nearest value from a given value in an array (★★☆) \n",
        "(**hint**: np.abs, argmin, flat)"
      ]
    },
    {
      "cell_type": "code",
      "execution_count": 8,
      "metadata": {
        "id": "4g7UlRR3y9sD",
        "colab": {
          "base_uri": "https://localhost:8080/"
        },
        "outputId": "ef5418ae-7af6-4d0e-98cc-4c8c2e3400db"
      },
      "outputs": [
        {
          "output_type": "stream",
          "name": "stdout",
          "text": [
            "0.3822628546186895\n"
          ]
        }
      ],
      "source": [
        "x = np.random.uniform(0,1,10)\n",
        "y = 0.5\n",
        "n = x.flat[np.abs(x-y).argmin()]\n",
        "print(n)"
      ]
    },
    {
      "cell_type": "markdown",
      "metadata": {
        "id": "h9nsEHhYy9sD"
      },
      "source": [
        "#### 62. Considering two arrays with shape (1,3) and (3,1), how to compute their sum using an iterator? (★★☆) \n",
        "(**hint**: np.nditer)"
      ]
    },
    {
      "cell_type": "code",
      "execution_count": null,
      "metadata": {
        "id": "gTQH_84qy9sD"
      },
      "outputs": [],
      "source": [
        ""
      ]
    },
    {
      "cell_type": "markdown",
      "metadata": {
        "id": "2QwNPc4Sy9sD"
      },
      "source": [
        "#### 63. Create an array class that has a name attribute (★★☆) \n",
        "(**hint**: class method)"
      ]
    },
    {
      "cell_type": "code",
      "execution_count": null,
      "metadata": {
        "id": "kKA38uXLy9sE"
      },
      "outputs": [],
      "source": [
        ""
      ]
    },
    {
      "cell_type": "markdown",
      "metadata": {
        "id": "sLRin_8Ky9sE"
      },
      "source": [
        "#### 64. Consider a given vector, how to add 1 to each element indexed by a second vector (be careful with repeated indices)? (★★★) \n",
        "(**hint**: np.bincount | np.add.at)"
      ]
    },
    {
      "cell_type": "code",
      "execution_count": 9,
      "metadata": {
        "id": "x78PWwR-y9sE",
        "colab": {
          "base_uri": "https://localhost:8080/"
        },
        "outputId": "a36bb2a7-52f8-4383-e579-e8601b3778bd"
      },
      "outputs": [
        {
          "output_type": "stream",
          "name": "stdout",
          "text": [
            "[3. 5. 2. 3. 2. 1. 3. 2. 5. 4.]\n"
          ]
        }
      ],
      "source": [
        "x = np.ones(10)\n",
        "y = np.random.randint(0,len(x),20)\n",
        "x += np.bincount(y, minlength=len(x))\n",
        "print(x)"
      ]
    },
    {
      "cell_type": "markdown",
      "metadata": {
        "id": "JZcepT_ay9sE"
      },
      "source": [
        "#### 65. How to accumulate elements of a vector (X) to an array (F) based on an index list (I)? (★★★) \n",
        "(**hint**: np.bincount)"
      ]
    },
    {
      "cell_type": "code",
      "execution_count": 11,
      "metadata": {
        "id": "tmOdJDxiy9sE",
        "colab": {
          "base_uri": "https://localhost:8080/"
        },
        "outputId": "5804c865-bfd3-4805-a7f7-60e2e0a84f44"
      },
      "outputs": [
        {
          "output_type": "stream",
          "name": "stdout",
          "text": [
            "[0. 1. 2. 4. 2. 3. 9. 2.]\n"
          ]
        }
      ],
      "source": [
        "x = [1,2,3,4,5,6,7]\n",
        "y = [1,2,4,2,3,9,2]\n",
        "s = np.bincount(x,y)\n",
        "print(s)"
      ]
    },
    {
      "cell_type": "markdown",
      "metadata": {
        "id": "hdjjtPMRy9sE"
      },
      "source": [
        "#### 66. Considering a (w,h,3) image of (dtype=ubyte), compute the number of unique colors (★★★) \n",
        "(**hint**: np.unique)"
      ]
    },
    {
      "cell_type": "code",
      "execution_count": 12,
      "metadata": {
        "id": "8fQR0MZRy9sF",
        "colab": {
          "base_uri": "https://localhost:8080/"
        },
        "outputId": "764a242d-ee74-40e5-f83d-f650deaee60e"
      },
      "outputs": [
        {
          "output_type": "stream",
          "name": "stdout",
          "text": [
            "[0 1]\n"
          ]
        }
      ],
      "source": [
        "w,h = 16,16\n",
        "x = np.random.randint(0,2,(h,w,3)).astype(np.ubyte)\n",
        "F = x[...,0]*256*256 + x[...,1]*256 +x[...,2]\n",
        "n = len(np.unique(F))\n",
        "print(np.unique(x))"
      ]
    },
    {
      "cell_type": "markdown",
      "metadata": {
        "id": "lf_9xB2zy9sF"
      },
      "source": [
        "#### 67. Considering a four dimensions array, how to get sum over the last two axis at once? (★★★) \n",
        "(**hint**: sum(axis=(-2,-1)))"
      ]
    },
    {
      "cell_type": "code",
      "execution_count": 13,
      "metadata": {
        "id": "KRam-a4ny9sF",
        "colab": {
          "base_uri": "https://localhost:8080/"
        },
        "outputId": "3d04f191-ad18-46ca-fbe8-8854a4e64843"
      },
      "outputs": [
        {
          "output_type": "stream",
          "name": "stdout",
          "text": [
            "[[54 48 41 59]\n",
            " [58 43 81 53]\n",
            " [54 61 51 47]]\n"
          ]
        }
      ],
      "source": [
        "x = np.random.randint(0,10,(3,4,3,4))\n",
        "s = x.reshape(x.shape[:-2] + (-1,)).sum(axis=-1)\n",
        "print(s)"
      ]
    },
    {
      "cell_type": "markdown",
      "metadata": {
        "id": "yDxQrUmJy9sF"
      },
      "source": [
        "#### 68. Considering a one-dimensional vector D, how to compute means of subsets of D using a vector S of same size describing subset  indices? (★★★) \n",
        "(**hint**: np.bincount)"
      ]
    },
    {
      "cell_type": "code",
      "execution_count": 14,
      "metadata": {
        "id": "OeaF9tr5y9sF",
        "colab": {
          "base_uri": "https://localhost:8080/"
        },
        "outputId": "6ba34376-69b2-4125-9b3a-399b0867a3db"
      },
      "outputs": [
        {
          "output_type": "stream",
          "name": "stdout",
          "text": [
            "[0.58988366 0.33545162 0.64871929 0.51451812 0.31018746 0.47797208\n",
            " 0.36990597 0.34587798 0.48124911 0.59331793]\n"
          ]
        }
      ],
      "source": [
        "x = np.random.uniform(0,1,100)\n",
        "y = np.random.randint(0,10,100)\n",
        "x_sums = np.bincount(y, weights=x)\n",
        "x_counts = np.bincount(y)\n",
        "x_means = x_sums / x_counts\n",
        "print(x_means)"
      ]
    },
    {
      "cell_type": "markdown",
      "metadata": {
        "id": "JW_uIKVuy9sG"
      },
      "source": [
        "#### 69. How to get the diagonal of a dot product? (★★★) \n",
        "(**hint**: np.diag)"
      ]
    },
    {
      "cell_type": "code",
      "execution_count": 15,
      "metadata": {
        "id": "yOEwQtNYy9sG",
        "colab": {
          "base_uri": "https://localhost:8080/"
        },
        "outputId": "ff44f4f3-359b-483a-f083-8bb27b342378"
      },
      "outputs": [
        {
          "output_type": "execute_result",
          "data": {
            "text/plain": [
              "array([83, 60, 45])"
            ]
          },
          "metadata": {},
          "execution_count": 15
        }
      ],
      "source": [
        "x = np.random.randint(0,10,(3,3))\n",
        "y = np.random.randint(0,10,(3,3))\n",
        "\n",
        "np.diag(np.dot(x,y))"
      ]
    },
    {
      "cell_type": "markdown",
      "metadata": {
        "id": "tap0Go8qy9sG"
      },
      "source": [
        "#### 70. Consider the vector \\[1, 2, 3, 4, 5\\], how to build a new vector with 3 consecutive zeros interleaved between each value? (★★★) \n",
        "(**hint**: array\\[::4\\])"
      ]
    },
    {
      "cell_type": "code",
      "execution_count": 17,
      "metadata": {
        "id": "uNtuk22yy9sG",
        "colab": {
          "base_uri": "https://localhost:8080/"
        },
        "outputId": "e3071d18-c75d-43f7-8497-60c9fddbc9b3"
      },
      "outputs": [
        {
          "output_type": "stream",
          "name": "stdout",
          "text": [
            "[1. 0. 0. 0. 2. 0. 0. 0. 3. 0. 0. 0. 4. 0. 0. 0. 5.]\n"
          ]
        }
      ],
      "source": [
        "x = np.array([1,2,3,4,5])\n",
        "nz = 3\n",
        "y = np.zeros(len(x) + (len(x)-1)*(nz))\n",
        "y[::nz+1] = x\n",
        "print(y)"
      ]
    },
    {
      "cell_type": "markdown",
      "metadata": {
        "id": "5fZMnlEpy9sG"
      },
      "source": [
        "#### 71. Consider an array of dimension (5,5,3), how to mulitply it by an array with dimensions (5,5)? (★★★) \n",
        "(**hint**: array\\[:, :, None\\])"
      ]
    },
    {
      "cell_type": "code",
      "execution_count": 18,
      "metadata": {
        "collapsed": true,
        "id": "-VNV9uoSy9sH",
        "colab": {
          "base_uri": "https://localhost:8080/"
        },
        "outputId": "73ee1006-93d9-46f2-8f6a-c7e5a2d6316e"
      },
      "outputs": [
        {
          "output_type": "stream",
          "name": "stdout",
          "text": [
            "[[[2. 2. 2.]\n",
            "  [2. 2. 2.]\n",
            "  [2. 2. 2.]\n",
            "  [2. 2. 2.]\n",
            "  [2. 2. 2.]]\n",
            "\n",
            " [[2. 2. 2.]\n",
            "  [2. 2. 2.]\n",
            "  [2. 2. 2.]\n",
            "  [2. 2. 2.]\n",
            "  [2. 2. 2.]]\n",
            "\n",
            " [[2. 2. 2.]\n",
            "  [2. 2. 2.]\n",
            "  [2. 2. 2.]\n",
            "  [2. 2. 2.]\n",
            "  [2. 2. 2.]]\n",
            "\n",
            " [[2. 2. 2.]\n",
            "  [2. 2. 2.]\n",
            "  [2. 2. 2.]\n",
            "  [2. 2. 2.]\n",
            "  [2. 2. 2.]]\n",
            "\n",
            " [[2. 2. 2.]\n",
            "  [2. 2. 2.]\n",
            "  [2. 2. 2.]\n",
            "  [2. 2. 2.]\n",
            "  [2. 2. 2.]]]\n"
          ]
        }
      ],
      "source": [
        "x = np.ones((5,5,3))\n",
        "y = 2*np.ones((5,5))\n",
        "print(x*y[:,:,None])"
      ]
    },
    {
      "cell_type": "markdown",
      "metadata": {
        "id": "MwBAzWgjy9sH"
      },
      "source": [
        "#### 72. How to swap two rows of an array? (★★★) \n",
        "(**hint**: array\\[\\[\\]\\] = array\\[\\[\\]\\])"
      ]
    },
    {
      "cell_type": "code",
      "execution_count": 20,
      "metadata": {
        "id": "bPH5UVEIy9sH",
        "colab": {
          "base_uri": "https://localhost:8080/"
        },
        "outputId": "c7ac985b-89cf-4cbd-8a54-129bd517df73"
      },
      "outputs": [
        {
          "output_type": "stream",
          "name": "stdout",
          "text": [
            "[[ 6  7  8  9 10 11]\n",
            " [ 0  1  2  3  4  5]\n",
            " [12 13 14 15 16 17]\n",
            " [18 19 20 21 22 23]\n",
            " [24 25 26 27 28 29]\n",
            " [30 31 32 33 34 35]]\n"
          ]
        }
      ],
      "source": [
        "x = np.arange(36).reshape(6,6)\n",
        "x[[0,1]] = x[[1,0]]\n",
        "print(x)"
      ]
    },
    {
      "cell_type": "markdown",
      "metadata": {
        "id": "qdpuwYXVy9sH"
      },
      "source": [
        "#### 73. Consider a set of 10 triplets describing 10 triangles (with shared vertices), find the set of unique line segments composing all the  triangles (★★★) \n",
        "(**hint**: repeat, np.roll, np.sort, view, np.unique)"
      ]
    },
    {
      "cell_type": "code",
      "execution_count": 21,
      "metadata": {
        "id": "Ggd0T15ly9sH",
        "colab": {
          "base_uri": "https://localhost:8080/"
        },
        "outputId": "305a5a13-6fa1-441f-b83d-1cdd833771bc"
      },
      "outputs": [
        {
          "output_type": "stream",
          "name": "stdout",
          "text": [
            "[( 3, 23) ( 3, 68) (11, 48) (11, 86) (12, 20) (12, 29) (15, 43) (15, 76)\n",
            " (20, 29) (23, 68) (24, 42) (24, 62) (24, 73) (24, 77) (24, 92) (28, 48)\n",
            " (28, 87) (35, 52) (35, 85) (41, 72) (41, 87) (42, 62) (42, 73) (43, 76)\n",
            " (48, 86) (48, 87) (52, 85) (72, 87) (77, 92)]\n"
          ]
        }
      ],
      "source": [
        "x = np.random.randint(0,100,(10,3))\n",
        "y = np.roll(x.repeat(2,axis=1),-1,axis=1)\n",
        "y = y.reshape(len(y)*3,2)\n",
        "y = np.sort(y,axis=1)\n",
        "z = y.view( dtype=[('p0',y.dtype),('p1',y.dtype)] )\n",
        "z = np.unique(z)\n",
        "print(z)"
      ]
    },
    {
      "cell_type": "markdown",
      "metadata": {
        "id": "j05kZib4y9sH"
      },
      "source": [
        "#### 74. Given an array C that is a bincount, how to produce an array A such that np.bincount(A) == C? (★★★) \n",
        "(**hint**: np.repeat)"
      ]
    },
    {
      "cell_type": "code",
      "execution_count": 25,
      "metadata": {
        "id": "9KEmlOXUy9sI",
        "colab": {
          "base_uri": "https://localhost:8080/"
        },
        "outputId": "d61b3f10-58ed-4cb3-b037-f45dcb3913b2"
      },
      "outputs": [
        {
          "output_type": "stream",
          "name": "stdout",
          "text": [
            "[0 1 2 1 2 1 1 1]\n"
          ]
        }
      ],
      "source": [
        "x = np.bincount([1,2,2,3,4,4,5,6,7])\n",
        "y = np.repeat(np.arange(len(x)),x)\n",
        "print(x)"
      ]
    },
    {
      "cell_type": "markdown",
      "metadata": {
        "id": "Iy3ACuKMy9sI"
      },
      "source": [
        "#### 75. How to compute averages using a sliding window over an array? (★★★) \n",
        "(**hint**: np.cumsum)"
      ]
    },
    {
      "cell_type": "code",
      "execution_count": 26,
      "metadata": {
        "id": "Ll4-V9T5y9sI",
        "colab": {
          "base_uri": "https://localhost:8080/"
        },
        "outputId": "c2e7bfad-d5c4-46db-ac35-9f6b888cdd81"
      },
      "outputs": [
        {
          "output_type": "stream",
          "name": "stdout",
          "text": [
            "[ 1.  2.  3.  4.  5.  6.  7.  8.  9. 10. 11. 12. 13. 14. 15. 16. 17. 18.]\n"
          ]
        }
      ],
      "source": [
        "def moving_average(a, n=3) :\n",
        "    ret = np.cumsum(a, dtype=float)\n",
        "    ret[n:] = ret[n:] - ret[:-n]\n",
        "    return ret[n - 1:] / n\n",
        "Z = np.arange(20)\n",
        "print(moving_average(Z, n=3))"
      ]
    },
    {
      "cell_type": "markdown",
      "metadata": {
        "id": "XjbQiqcLy9sJ"
      },
      "source": [
        "#### 76. Consider a one-dimensional array Z, build a two-dimensional array whose first row is (Z\\[0\\],Z\\[1\\],Z\\[2\\]) and each subsequent row is  shifted by 1 (last row should be (Z\\[-3\\],Z\\[-2\\],Z\\[-1\\]) (★★★) \n",
        "(**hint**: from numpy.lib import stride_tricks)"
      ]
    },
    {
      "cell_type": "code",
      "execution_count": 27,
      "metadata": {
        "id": "_G3YgJ_jy9sJ",
        "colab": {
          "base_uri": "https://localhost:8080/"
        },
        "outputId": "22a07a3a-e0ac-401a-87a9-3ff8a2dbf57f"
      },
      "outputs": [
        {
          "output_type": "stream",
          "name": "stdout",
          "text": [
            "[[0 1 2]\n",
            " [1 2 3]\n",
            " [2 3 4]\n",
            " [3 4 5]\n",
            " [4 5 6]\n",
            " [5 6 7]\n",
            " [6 7 8]\n",
            " [7 8 9]]\n"
          ]
        }
      ],
      "source": [
        "def rolling(a, window):\n",
        "    shape = (a.size - window + 1, window)\n",
        "    strides = (a.itemsize, a.itemsize)\n",
        "    return np.lib.stride_tricks.as_strided(a, shape=shape, strides=strides)\n",
        "Z = rolling(np.arange(10), 3)\n",
        "print(Z)"
      ]
    },
    {
      "cell_type": "markdown",
      "metadata": {
        "id": "repJLFK7y9sK"
      },
      "source": [
        "#### 77. How to negate a boolean, or to change the sign of a float inplace? (★★★) \n",
        "(**hint**: np.logical_not, np.negative)"
      ]
    },
    {
      "cell_type": "code",
      "execution_count": 28,
      "metadata": {
        "id": "Nn1Q5QTUy9sK",
        "colab": {
          "base_uri": "https://localhost:8080/"
        },
        "outputId": "ff8a3e6d-daf5-4ac1-8772-958ccab06478"
      },
      "outputs": [
        {
          "output_type": "stream",
          "name": "stdout",
          "text": [
            "original: \n",
            "[0 0 1 1 1 0 0 1 0 0 1 0 1 0 1 0 0 0 0 0 0 0 1 1 1 0 0 0 1 0 1 1 0 0 0 0 1\n",
            " 0 1 1 0 1 1 1 1 0 1 0 1 0 0 1 1 0 1 0 0 1 1 1 1 0 0 1 1 0 1 1 1 0 0 0 1 1\n",
            " 0 0 0 1 0 0 0 1 0 1 0 1 0 1 1 0 1 1 1 1 0 1 0 1 0 1]\n",
            "Negating a boolean: \n",
            "[1 1 0 0 0 1 1 0 1 1 0 1 0 1 0 1 1 1 1 1 1 1 0 0 0 1 1 1 0 1 0 0 1 1 1 1 0\n",
            " 1 0 0 1 0 0 0 0 1 0 1 0 1 1 0 0 1 0 1 1 0 0 0 0 1 1 0 0 1 0 0 0 1 1 1 0 0\n",
            " 1 1 1 0 1 1 1 0 1 0 1 0 1 0 0 1 0 0 0 0 1 0 1 0 1 0]\n",
            "original: \n",
            "[-0.92250152 -0.67857478  0.90099269  0.23163864  0.97894569 -0.71362271\n",
            " -0.48062899  0.89051159  0.25625587  0.30364603]\n",
            "Change the sign of float inplace: \n",
            "[ 0.92250152  0.67857478 -0.90099269 -0.23163864 -0.97894569  0.71362271\n",
            "  0.48062899 -0.89051159 -0.25625587 -0.30364603]\n"
          ]
        }
      ],
      "source": [
        "Z = np.random.randint(0,2,100)\n",
        "print ('original: ')\n",
        "print (Z)\n",
        "print('Negating a boolean: ')\n",
        "print(np.logical_not(Z, out=Z))\n",
        "\n",
        "\n",
        "Z = np.random.uniform(-1.0,1.0,10)\n",
        "print ('original: ')\n",
        "print (Z)\n",
        "print ('Change the sign of float inplace: ')\n",
        "print(np.negative(Z, out=Z))"
      ]
    },
    {
      "cell_type": "markdown",
      "metadata": {
        "id": "-096j44py9sK"
      },
      "source": [
        "#### 78. Consider 2 sets of points P0,P1 describing lines (2d) and a point p, how to compute distance from p to each line i  (P0\\[i\\],P1\\[i\\])? (★★★)"
      ]
    },
    {
      "cell_type": "code",
      "execution_count": 29,
      "metadata": {
        "id": "lSutzgpIy9sK",
        "colab": {
          "base_uri": "https://localhost:8080/"
        },
        "outputId": "d585970f-ed94-4a62-8625-3111b3d9886a"
      },
      "outputs": [
        {
          "output_type": "stream",
          "name": "stdout",
          "text": [
            "[ 3.4562701   8.65476091 10.84750905 11.83314754 11.50965215  6.47356638\n",
            "  4.38396945  3.23731167  7.92700214  1.49278766]\n"
          ]
        }
      ],
      "source": [
        "def distance(P0, P1, p):\n",
        "    T = P1 - P0\n",
        "    L = (T**2).sum(axis=1)\n",
        "    U = -((P0[:,0]-p[...,0])*T[:,0] + (P0[:,1]-p[...,1])*T[:,1]) / L\n",
        "    U = U.reshape(len(U),1)\n",
        "    D = P0 + U*T - p\n",
        "    return np.sqrt((D**2).sum(axis=1))\n",
        "\n",
        "P0 = np.random.uniform(-10,10,(10,2))\n",
        "P1 = np.random.uniform(-10,10,(10,2))\n",
        "p  = np.random.uniform(-10,10,( 1,2))\n",
        "print(distance(P0, P1, p))"
      ]
    },
    {
      "cell_type": "markdown",
      "metadata": {
        "id": "aT4ukKOry9sK"
      },
      "source": [
        "#### 79. Consider 2 sets of points P0,P1 describing lines (2d) and a set of points P, how to compute distance from each point j (P\\[j\\]) to each line i (P0\\[i\\],P1\\[i\\])? (★★★)"
      ]
    },
    {
      "cell_type": "code",
      "execution_count": 30,
      "metadata": {
        "id": "8NJr2Z1my9sK",
        "colab": {
          "base_uri": "https://localhost:8080/"
        },
        "outputId": "ce541aa7-a78a-427a-f964-df4dfb39be8a"
      },
      "outputs": [
        {
          "output_type": "stream",
          "name": "stdout",
          "text": [
            "[[ 3.49329426  4.72587752  3.13218303  0.04398524  4.61926727]\n",
            " [ 5.13093876  2.74028045  4.99652643  1.49797255  3.55848579]\n",
            " [ 1.45770955  8.57691553  0.06311145  1.76667451  4.79876562]\n",
            " [ 4.25944361 12.27364429  6.10858014 10.89987539 16.04878942]\n",
            " [ 5.33296726  6.60470632  0.32390272  3.92429502  9.20907132]]\n"
          ]
        }
      ],
      "source": [
        "P0 = np.random.uniform(-10, 10, (5,2))\n",
        "P1 = np.random.uniform(-10,10,(5,2))\n",
        "p = np.random.uniform(-10, 10, (5,2))\n",
        "print (np.array([distance(P0,P1,p_i) for p_i in p]))"
      ]
    },
    {
      "cell_type": "markdown",
      "metadata": {
        "id": "FUb8mJvXy9sL"
      },
      "source": [
        "#### 80. Consider an arbitrary array, write a function that extract a subpart with a fixed shape and centered on a given element (pad with a `fill` value when necessary) (★★★) \n",
        "(**hint**: minimum, maximum)"
      ]
    },
    {
      "cell_type": "code",
      "execution_count": 31,
      "metadata": {
        "id": "rhXMWSUWy9sL",
        "colab": {
          "base_uri": "https://localhost:8080/"
        },
        "outputId": "f9c77ba1-2a1c-4e11-b33c-3d4d6e0bd0a4"
      },
      "outputs": [
        {
          "output_type": "stream",
          "name": "stdout",
          "text": [
            "[[3 7 6 7 3 6 6 8 6 2]\n",
            " [1 0 5 4 5 4 5 1 9 6]\n",
            " [8 3 8 3 4 3 7 7 8 1]\n",
            " [1 1 2 4 2 4 5 9 8 9]\n",
            " [8 1 2 7 7 1 1 0 2 1]\n",
            " [7 2 8 0 8 2 8 6 4 7]\n",
            " [2 4 8 7 5 7 5 3 9 8]\n",
            " [3 5 5 2 7 7 1 3 3 3]\n",
            " [9 3 2 8 8 3 6 4 8 6]\n",
            " [0 6 6 7 5 2 2 3 2 4]]\n",
            "[[0 0 0 0 0]\n",
            " [0 3 7 6 7]\n",
            " [0 1 0 5 4]\n",
            " [0 8 3 8 3]\n",
            " [0 1 1 2 4]]\n"
          ]
        },
        {
          "output_type": "stream",
          "name": "stderr",
          "text": [
            "/usr/local/lib/python3.7/dist-packages/ipykernel_launcher.py:23: FutureWarning: Using a non-tuple sequence for multidimensional indexing is deprecated; use `arr[tuple(seq)]` instead of `arr[seq]`. In the future this will be interpreted as an array index, `arr[np.array(seq)]`, which will result either in an error or a different result.\n"
          ]
        }
      ],
      "source": [
        "Z = np.random.randint(0,10,(10,10))\n",
        "shape = (5,5)\n",
        "fill  = 0\n",
        "position = (1,1)\n",
        "\n",
        "R = np.ones(shape, dtype=Z.dtype)*fill\n",
        "P  = np.array(list(position)).astype(int)\n",
        "Rs = np.array(list(R.shape)).astype(int)\n",
        "Zs = np.array(list(Z.shape)).astype(int)\n",
        "\n",
        "R_start = np.zeros((len(shape),)).astype(int)\n",
        "R_stop  = np.array(list(shape)).astype(int)\n",
        "Z_start = (P-Rs//2)\n",
        "Z_stop  = (P+Rs//2)+Rs%2\n",
        "\n",
        "R_start = (R_start - np.minimum(Z_start,0)).tolist()\n",
        "Z_start = (np.maximum(Z_start,0)).tolist()\n",
        "R_stop = np.maximum(R_start, (R_stop - np.maximum(Z_stop-Zs,0))).tolist()\n",
        "Z_stop = (np.minimum(Z_stop,Zs)).tolist()\n",
        "\n",
        "r = [slice(start,stop) for start,stop in zip(R_start,R_stop)]\n",
        "z = [slice(start,stop) for start,stop in zip(Z_start,Z_stop)]\n",
        "R[r] = Z[z]\n",
        "print(Z)\n",
        "print(R)"
      ]
    },
    {
      "cell_type": "markdown",
      "metadata": {
        "id": "4Rn2-hPUy9sL"
      },
      "source": [
        "#### 81. Consider an array Z = \\[1,2,3,4,5,6,7,8,9,10,11,12,13,14\\], how to generate an array R = \\[\\[1,2,3,4\\], \\[2,3,4,5\\], \\[3,4,5,6\\], ..., \\[11,12,13,14\\]\\]? (★★★) \n",
        "(**hint**: stride\\_tricks.as\\_strided)"
      ]
    },
    {
      "cell_type": "code",
      "execution_count": 32,
      "metadata": {
        "id": "XPBHOtG2y9sL",
        "colab": {
          "base_uri": "https://localhost:8080/"
        },
        "outputId": "9cdd30b3-af3a-44f2-fdba-82e931d04041"
      },
      "outputs": [
        {
          "output_type": "stream",
          "name": "stdout",
          "text": [
            "original: \n",
            "[ 1  2  3  4  5  6  7  8  9 10 11 12 13 14]\n",
            "after strides: \n",
            "[[ 1  2  3  4]\n",
            " [ 2  3  4  5]\n",
            " [ 3  4  5  6]\n",
            " [ 4  5  6  7]\n",
            " [ 5  6  7  8]\n",
            " [ 6  7  8  9]\n",
            " [ 7  8  9 10]\n",
            " [ 8  9 10 11]\n",
            " [ 9 10 11 12]\n",
            " [10 11 12 13]\n",
            " [11 12 13 14]]\n"
          ]
        }
      ],
      "source": [
        "Z = np.arange(1,15,dtype=int)\n",
        "\n",
        "def rolling(a, window):\n",
        "    shape = (a.size - window + 1, window)\n",
        "    strides = (a.itemsize, a.itemsize)\n",
        "    return np.lib.stride_tricks.as_strided(a, shape=shape, strides=strides)\n",
        "R = rolling(Z, 4)\n",
        "print ('original: ')\n",
        "print (Z)\n",
        "print ('after strides: ')\n",
        "print(R)"
      ]
    },
    {
      "cell_type": "markdown",
      "metadata": {
        "id": "HwtIReZwy9sL"
      },
      "source": [
        "#### 82. Compute a matrix rank (★★★) \n",
        "(**hint**: np.linalg.svd) (suggestion: np.linalg.svd)"
      ]
    },
    {
      "cell_type": "code",
      "execution_count": 33,
      "metadata": {
        "id": "vpCvrLL1y9sM",
        "colab": {
          "base_uri": "https://localhost:8080/"
        },
        "outputId": "e356c3d7-a7b9-4fc7-924b-7d91cb0078e6"
      },
      "outputs": [
        {
          "output_type": "stream",
          "name": "stdout",
          "text": [
            "10\n"
          ]
        }
      ],
      "source": [
        "Z = np.random.uniform(0,1,(10,10))\n",
        "U, S, V = np.linalg.svd(Z) # Singular Value Decomposition\n",
        "rank = np.sum(S > 1e-10)\n",
        "print (rank)"
      ]
    },
    {
      "cell_type": "markdown",
      "metadata": {
        "id": "Y8RiRUBEy9sM"
      },
      "source": [
        "#### 83. How to find the most frequent value in an array? \n",
        "(**hint**: np.bincount, argmax)"
      ]
    },
    {
      "cell_type": "code",
      "execution_count": 34,
      "metadata": {
        "id": "n1yXqiB9y9sM",
        "colab": {
          "base_uri": "https://localhost:8080/"
        },
        "outputId": "3207c466-814d-41df-e0a9-10c2c5933d51"
      },
      "outputs": [
        {
          "output_type": "stream",
          "name": "stdout",
          "text": [
            "[7 0 3 7 4 9 7 1 5 5 7 5 4 7 3 6 1 9 9 1 4 3 9 8 7 6 8 3 7 1 0 8 6 6 0 1 9\n",
            " 7 2 8 9 8 2 9 3 7 7 4 7 6]\n",
            "rank: 7\n"
          ]
        }
      ],
      "source": [
        "Z = np.random.randint(0,10,50)\n",
        "print (Z)\n",
        "print('rank:', np.bincount(Z).argmax())"
      ]
    },
    {
      "cell_type": "markdown",
      "metadata": {
        "id": "ilFMzIccy9sM"
      },
      "source": [
        "#### 84. Extract all the contiguous 3x3 blocks from a random 10x10 matrix (★★★) \n",
        "(**hint**: stride\\_tricks.as\\_strided)"
      ]
    },
    {
      "cell_type": "code",
      "execution_count": 35,
      "metadata": {
        "id": "exu9UjqTy9sN",
        "colab": {
          "base_uri": "https://localhost:8080/"
        },
        "outputId": "10b45670-8e8d-461f-a179-aae6df8b07a5"
      },
      "outputs": [
        {
          "output_type": "stream",
          "name": "stdout",
          "text": [
            "[[[[0 1 3]\n",
            "   [3 0 3]\n",
            "   [3 3 3]]\n",
            "\n",
            "  [[1 3 1]\n",
            "   [0 3 0]\n",
            "   [3 3 2]]\n",
            "\n",
            "  [[3 1 0]\n",
            "   [3 0 3]\n",
            "   [3 2 1]]\n",
            "\n",
            "  [[1 0 1]\n",
            "   [0 3 2]\n",
            "   [2 1 3]]]\n",
            "\n",
            "\n",
            " [[[3 0 3]\n",
            "   [3 3 3]\n",
            "   [1 4 0]]\n",
            "\n",
            "  [[0 3 0]\n",
            "   [3 3 2]\n",
            "   [4 0 3]]\n",
            "\n",
            "  [[3 0 3]\n",
            "   [3 2 1]\n",
            "   [0 3 2]]\n",
            "\n",
            "  [[0 3 2]\n",
            "   [2 1 3]\n",
            "   [3 2 0]]]\n",
            "\n",
            "\n",
            " [[[3 3 3]\n",
            "   [1 4 0]\n",
            "   [2 1 2]]\n",
            "\n",
            "  [[3 3 2]\n",
            "   [4 0 3]\n",
            "   [1 2 0]]\n",
            "\n",
            "  [[3 2 1]\n",
            "   [0 3 2]\n",
            "   [2 0 3]]\n",
            "\n",
            "  [[2 1 3]\n",
            "   [3 2 0]\n",
            "   [0 3 1]]]\n",
            "\n",
            "\n",
            " [[[1 4 0]\n",
            "   [2 1 2]\n",
            "   [3 2 0]]\n",
            "\n",
            "  [[4 0 3]\n",
            "   [1 2 0]\n",
            "   [2 0 1]]\n",
            "\n",
            "  [[0 3 2]\n",
            "   [2 0 3]\n",
            "   [0 1 1]]\n",
            "\n",
            "  [[3 2 0]\n",
            "   [0 3 1]\n",
            "   [1 1 0]]]]\n"
          ]
        }
      ],
      "source": [
        "Z = np.random.randint(0,5,(6,6))\n",
        "n = 3\n",
        "i = 1 + (Z.shape[0]-3)\n",
        "j = 1 + (Z.shape[1]-3)\n",
        "C = np.lib.stride_tricks.as_strided(Z, shape=(i, j, n, n), strides=Z.strides + Z.strides)\n",
        "print(C)"
      ]
    },
    {
      "cell_type": "markdown",
      "metadata": {
        "id": "LxTwUuEDy9sN"
      },
      "source": [
        "#### 85. Create a 2D array subclass such that Z\\[i,j\\] == Z\\[j,i\\] (★★★) \n",
        "(**hint**: class method)"
      ]
    },
    {
      "cell_type": "code",
      "execution_count": 36,
      "metadata": {
        "id": "XgpOabhAy9sN",
        "colab": {
          "base_uri": "https://localhost:8080/",
          "height": 130
        },
        "outputId": "36f7d547-b04a-4260-937b-68e190c23d67"
      },
      "outputs": [
        {
          "output_type": "error",
          "ename": "SyntaxError",
          "evalue": "ignored",
          "traceback": [
            "\u001b[0;36m  File \u001b[0;32m\"<ipython-input-36-3553fb9a4cb4>\"\u001b[0;36m, line \u001b[0;32m2\u001b[0m\n\u001b[0;31m    def __setitem__(self, (i,j), value):\u001b[0m\n\u001b[0m                          ^\u001b[0m\n\u001b[0;31mSyntaxError\u001b[0m\u001b[0;31m:\u001b[0m invalid syntax\n"
          ]
        }
      ],
      "source": [
        "class Symetric(np.ndarray):\n",
        "    def __setitem__(self, (i,j), value):\n",
        "        super(Symetric, self).__setitem__((i,j), value)\n",
        "        super(Symetric, self).__setitem__((j,i), value)\n",
        "\n",
        "def symetric(Z):\n",
        "    return np.asarray(Z + Z.T - np.diag(Z.diagonal())).view(Symetric)\n",
        "\n",
        "S = symetric(np.random.randint(0,10,(5,5)))\n",
        "S[2,3] = 42\n",
        "print(S)"
      ]
    },
    {
      "cell_type": "markdown",
      "metadata": {
        "id": "oVykqz9Uy9sN"
      },
      "source": [
        "#### 86. Consider a set of p matrices wich shape (n,n) and a set of p vectors with shape (n,1). How to compute the sum of of the p matrix products at once? (result has shape (n,1)) (★★★) \n",
        "(**hint**: np.tensordot)"
      ]
    },
    {
      "cell_type": "code",
      "execution_count": 37,
      "metadata": {
        "id": "bq4fAihyy9sN",
        "colab": {
          "base_uri": "https://localhost:8080/"
        },
        "outputId": "6aa2475a-a513-4c1f-acec-102471b3feac"
      },
      "outputs": [
        {
          "output_type": "stream",
          "name": "stdout",
          "text": [
            "[[200.]\n",
            " [200.]\n",
            " [200.]\n",
            " [200.]\n",
            " [200.]\n",
            " [200.]\n",
            " [200.]\n",
            " [200.]\n",
            " [200.]\n",
            " [200.]\n",
            " [200.]\n",
            " [200.]\n",
            " [200.]\n",
            " [200.]\n",
            " [200.]\n",
            " [200.]\n",
            " [200.]\n",
            " [200.]\n",
            " [200.]\n",
            " [200.]]\n"
          ]
        }
      ],
      "source": [
        "p, n = 10, 20\n",
        "M = np.ones((p,n,n))\n",
        "V = np.ones((p,n,1))\n",
        "S = np.tensordot(M, V, axes=[[0, 2], [0, 1]])\n",
        "print(S)"
      ]
    },
    {
      "cell_type": "markdown",
      "metadata": {
        "id": "n2WQvFuJy9sO"
      },
      "source": [
        "#### 87. Consider a 16x16 array, how to get the block-sum (block size is 4x4)? (★★★) \n",
        "(**hint**: np.add.reduceat)"
      ]
    },
    {
      "cell_type": "code",
      "execution_count": 38,
      "metadata": {
        "id": "SQtXvPrsy9sO",
        "colab": {
          "base_uri": "https://localhost:8080/"
        },
        "outputId": "158acb3c-8ac8-4727-95ff-fa0fa1783cca"
      },
      "outputs": [
        {
          "output_type": "stream",
          "name": "stdout",
          "text": [
            "input array\n",
            "[[1. 1. 1. 1. 1. 1. 1. 1. 1. 1. 1. 1. 1. 1. 1. 1.]\n",
            " [1. 1. 1. 1. 1. 1. 1. 1. 1. 1. 1. 1. 1. 1. 1. 1.]\n",
            " [1. 1. 1. 1. 1. 1. 1. 1. 1. 1. 1. 1. 1. 1. 1. 1.]\n",
            " [1. 1. 1. 1. 1. 1. 1. 1. 1. 1. 1. 1. 1. 1. 1. 1.]\n",
            " [1. 1. 1. 1. 1. 1. 1. 1. 1. 1. 1. 1. 1. 1. 1. 1.]\n",
            " [1. 1. 1. 1. 1. 1. 1. 1. 1. 1. 1. 1. 1. 1. 1. 1.]\n",
            " [1. 1. 1. 1. 1. 1. 1. 1. 1. 1. 1. 1. 1. 1. 1. 1.]\n",
            " [1. 1. 1. 1. 1. 1. 1. 1. 1. 1. 1. 1. 1. 1. 1. 1.]\n",
            " [1. 1. 1. 1. 1. 1. 1. 1. 1. 1. 1. 1. 1. 1. 1. 1.]\n",
            " [1. 1. 1. 1. 1. 1. 1. 1. 1. 1. 1. 1. 1. 1. 1. 1.]\n",
            " [1. 1. 1. 1. 1. 1. 1. 1. 1. 1. 1. 1. 1. 1. 1. 1.]\n",
            " [1. 1. 1. 1. 1. 1. 1. 1. 1. 1. 1. 1. 1. 1. 1. 1.]\n",
            " [1. 1. 1. 1. 1. 1. 1. 1. 1. 1. 1. 1. 1. 1. 1. 1.]\n",
            " [1. 1. 1. 1. 1. 1. 1. 1. 1. 1. 1. 1. 1. 1. 1. 1.]\n",
            " [1. 1. 1. 1. 1. 1. 1. 1. 1. 1. 1. 1. 1. 1. 1. 1.]\n",
            " [1. 1. 1. 1. 1. 1. 1. 1. 1. 1. 1. 1. 1. 1. 1. 1.]]\n",
            "block sum\n",
            "[[16. 16. 16. 16.]\n",
            " [16. 16. 16. 16.]\n",
            " [16. 16. 16. 16.]\n",
            " [16. 16. 16. 16.]]\n"
          ]
        }
      ],
      "source": [
        "Z = np.ones((16,16))\n",
        "k = 4\n",
        "S = np.add.reduceat(np.add.reduceat(Z, np.arange(0, Z.shape[0], k), axis=0),\n",
        "                                       np.arange(0, Z.shape[1], k), axis=1)\n",
        "print ('input array')\n",
        "print (Z)\n",
        "print ('block sum')\n",
        "print (S)"
      ]
    },
    {
      "cell_type": "markdown",
      "metadata": {
        "id": "UEdcN9Gyy9sO"
      },
      "source": [
        "#### 88. How to implement the Game of Life using numpy arrays? (★★★)"
      ]
    },
    {
      "cell_type": "code",
      "execution_count": 39,
      "metadata": {
        "id": "PKVs7Kijy9sO"
      },
      "outputs": [],
      "source": [
        "def iterate(Z):\n",
        "    N = (Z[0:-2,0:-2] + Z[0:-2,1:-1] + Z[0:-2,2:] +\n",
        "         Z[1:-1,0:-2]                + Z[1:-1,2:] +\n",
        "         Z[2:  ,0:-2] + Z[2:  ,1:-1] + Z[2:  ,2:])\n",
        "\n",
        "    birth = (N==3) & (Z[1:-1,1:-1]==0)\n",
        "    survive = ((N==2) | (N==3)) & (Z[1:-1,1:-1]==1)\n",
        "    Z[...] = 0\n",
        "    Z[1:-1,1:-1][birth | survive] = 1\n",
        "    return Z\n",
        "\n",
        "Z = np.random.randint(0,2,(50,50))\n",
        "for i in range(100): Z = iterate(Z)"
      ]
    },
    {
      "cell_type": "markdown",
      "metadata": {
        "id": "9MKcrntAy9sO"
      },
      "source": [
        "#### 89. How to get the n largest values of an array (★★★) \n",
        "(**hint**: np.argsort | np.argpartition)"
      ]
    },
    {
      "cell_type": "code",
      "execution_count": 42,
      "metadata": {
        "id": "VyVSc6i1y9sO",
        "colab": {
          "base_uri": "https://localhost:8080/"
        },
        "outputId": "fc46653f-70cd-4dae-e5ac-b3903234dee7"
      },
      "outputs": [
        {
          "output_type": "stream",
          "name": "stdout",
          "text": [
            "[9995 9996 9997 9998 9999]\n"
          ]
        }
      ],
      "source": [
        "Z = np.arange(10000)\n",
        "np.random.shuffle(Z)\n",
        "n = 5\n",
        "\n",
        "print (Z[np.argsort(Z)[-n:]])"
      ]
    },
    {
      "cell_type": "markdown",
      "metadata": {
        "id": "HVrQIrxxy9sP"
      },
      "source": [
        "#### 90. Given an arbitrary number of vectors, build the cartesian product (every combinations of every item) (★★★) \n",
        "(**hint**: np.indices)"
      ]
    },
    {
      "cell_type": "code",
      "execution_count": 43,
      "metadata": {
        "scrolled": true,
        "id": "6JNgugtqy9sP",
        "colab": {
          "base_uri": "https://localhost:8080/"
        },
        "outputId": "a25a357d-395a-4c0a-ced0-9d5a3bddb485"
      },
      "outputs": [
        {
          "output_type": "stream",
          "name": "stdout",
          "text": [
            "[[1 4 6]\n",
            " [1 4 7]\n",
            " [1 5 6]\n",
            " [1 5 7]\n",
            " [2 4 6]\n",
            " [2 4 7]\n",
            " [2 5 6]\n",
            " [2 5 7]\n",
            " [3 4 6]\n",
            " [3 4 7]\n",
            " [3 5 6]\n",
            " [3 5 7]]\n"
          ]
        }
      ],
      "source": [
        "def cartesian(arrays):\n",
        "    arrays = [np.asarray(a) for a in arrays]\n",
        "    shape = (len(x) for x in arrays)\n",
        "\n",
        "    ix = np.indices(shape, dtype=int)\n",
        "    ix = ix.reshape(len(arrays), -1).T\n",
        "\n",
        "    for n, arr in enumerate(arrays):\n",
        "        ix[:, n] = arrays[n][ix[:, n]]\n",
        "\n",
        "    return ix\n",
        "\n",
        "print (cartesian(([1, 2, 3], [4, 5], [6, 7])))"
      ]
    },
    {
      "cell_type": "markdown",
      "metadata": {
        "id": "fhHtfGR1y9sP"
      },
      "source": [
        "#### 91. How to create a record array from a regular array? (★★★) \n",
        "(**hint**: np.core.records.fromarrays)"
      ]
    },
    {
      "cell_type": "code",
      "execution_count": 44,
      "metadata": {
        "id": "Ulxh3HH-y9sP"
      },
      "outputs": [],
      "source": [
        "Z = np.array([(\"Hello\", 2.5, 3),\n",
        "              (\"World\", 3.6, 2)])\n",
        "R = np.core.records.fromarrays(Z.T,\n",
        "                               names='col1, col2, col3',\n",
        "                               formats = 'S8, f8, i8')"
      ]
    },
    {
      "cell_type": "markdown",
      "metadata": {
        "id": "EQdP-YLGy9sP"
      },
      "source": [
        "#### 92. Consider a large vector Z, compute Z to the power of 3 using 3 different methods (★★★) \n",
        "(**hint**: np.power, \\*, np.einsum)"
      ]
    },
    {
      "cell_type": "code",
      "execution_count": null,
      "metadata": {
        "id": "3yKTOjU7y9sQ"
      },
      "outputs": [],
      "source": [
        ""
      ]
    },
    {
      "cell_type": "markdown",
      "metadata": {
        "id": "Z865zlxuy9sQ"
      },
      "source": [
        "#### 93. Consider two arrays A and B of shape (8,3) and (2,2). How to find rows of A that contain elements of each row of B regardless of the order of the elements in B? (★★★) \n",
        "(**hint**: np.where)"
      ]
    },
    {
      "cell_type": "code",
      "execution_count": 47,
      "metadata": {
        "id": "vERXgqNty9sQ",
        "colab": {
          "base_uri": "https://localhost:8080/"
        },
        "outputId": "d629200c-0f70-4bfd-806a-0390bfdd4962"
      },
      "outputs": [
        {
          "output_type": "stream",
          "name": "stdout",
          "text": [
            "[0 2 3 5 6]\n"
          ]
        }
      ],
      "source": [
        "A = np.random.randint(0,5,(8,3))\n",
        "B = np.random.randint(0,5,(2,2))\n",
        "\n",
        "C = (A[..., np.newaxis, np.newaxis] == B)\n",
        "rows = (C.sum(axis=(1,2,3)) >= B.shape[1]).nonzero()[0]\n",
        "print(rows)"
      ]
    },
    {
      "cell_type": "markdown",
      "metadata": {
        "id": "Bx8j8Knyy9sQ"
      },
      "source": [
        "#### 94. Considering a 10x3 matrix, extract rows with unequal values (e.g. \\[2,2,3\\]) (★★★)"
      ]
    },
    {
      "cell_type": "code",
      "execution_count": 48,
      "metadata": {
        "id": "TF-gU3B7y9sQ",
        "colab": {
          "base_uri": "https://localhost:8080/"
        },
        "outputId": "b241359a-8c8b-477f-9e43-16cacc0d8457"
      },
      "outputs": [
        {
          "output_type": "stream",
          "name": "stdout",
          "text": [
            "[[4 0 3]\n",
            " [4 1 1]\n",
            " [4 3 2]\n",
            " [3 3 4]\n",
            " [4 1 2]\n",
            " [4 0 0]\n",
            " [2 2 3]\n",
            " [3 0 4]\n",
            " [0 4 4]\n",
            " [1 0 0]]\n",
            "[[4 0 3]\n",
            " [4 1 1]\n",
            " [4 3 2]\n",
            " [3 3 4]\n",
            " [4 1 2]\n",
            " [4 0 0]\n",
            " [2 2 3]\n",
            " [3 0 4]\n",
            " [0 4 4]\n",
            " [1 0 0]]\n"
          ]
        }
      ],
      "source": [
        "Z = np.random.randint(0,5,(10,3))\n",
        "E = np.logical_and.reduce(Z[:,1:] == Z[:,:-1], axis=1)\n",
        "U = Z[~E]\n",
        "print(Z)\n",
        "print(U)"
      ]
    },
    {
      "cell_type": "markdown",
      "metadata": {
        "id": "cdOCx651y9sR"
      },
      "source": [
        "#### 95. Convert a vector of ints into a matrix binary representation (★★★) \n",
        "(**hint**: np.unpackbits)"
      ]
    },
    {
      "cell_type": "code",
      "execution_count": 49,
      "metadata": {
        "id": "0NROitH7y9sR",
        "colab": {
          "base_uri": "https://localhost:8080/"
        },
        "outputId": "4fad2dca-a461-4d6f-f64a-b6bf7cf939f9"
      },
      "outputs": [
        {
          "output_type": "stream",
          "name": "stdout",
          "text": [
            "[[0 0 0 0 0 0 0 0]\n",
            " [0 0 0 0 0 0 0 1]\n",
            " [0 0 0 0 0 0 1 0]\n",
            " [0 0 0 0 0 0 1 1]\n",
            " [0 0 0 0 1 1 1 1]\n",
            " [0 0 0 1 0 0 0 0]\n",
            " [0 0 1 0 0 0 0 0]\n",
            " [0 1 0 0 0 0 0 0]\n",
            " [1 0 0 0 0 0 0 0]]\n",
            "[[0 0 0 0 0 0 0 0]\n",
            " [0 0 0 0 0 0 0 1]\n",
            " [0 0 0 0 0 0 1 0]\n",
            " [0 0 0 0 0 0 1 1]\n",
            " [0 0 0 0 1 1 1 1]\n",
            " [0 0 0 1 0 0 0 0]\n",
            " [0 0 1 0 0 0 0 0]\n",
            " [0 1 0 0 0 0 0 0]\n",
            " [1 0 0 0 0 0 0 0]]\n"
          ]
        }
      ],
      "source": [
        "I = np.array([0, 1, 2, 3, 15, 16, 32, 64, 128])\n",
        "B = ((I.reshape(-1,1) & (2**np.arange(8))) != 0).astype(int)\n",
        "print(B[:,::-1])\n",
        "\n",
        "I = np.array([0, 1, 2, 3, 15, 16, 32, 64, 128], dtype=np.uint8)\n",
        "print(np.unpackbits(I[:, np.newaxis], axis=1))"
      ]
    },
    {
      "cell_type": "markdown",
      "metadata": {
        "id": "pK0J5cRYy9sR"
      },
      "source": [
        "#### 96. Given a two dimensional array, how to extract unique rows? (★★★) \n",
        "(**hint**: np.ascontiguousarray)"
      ]
    },
    {
      "cell_type": "code",
      "execution_count": 50,
      "metadata": {
        "id": "QJ3JS37Oy9sR",
        "colab": {
          "base_uri": "https://localhost:8080/"
        },
        "outputId": "aad156a0-e953-4d21-8b36-dc40a626f8a7"
      },
      "outputs": [
        {
          "output_type": "stream",
          "name": "stdout",
          "text": [
            "[[0 0 0]\n",
            " [0 1 1]\n",
            " [1 0 0]]\n"
          ]
        }
      ],
      "source": [
        "Z = np.random.randint(0,2,(6,3))\n",
        "T = np.ascontiguousarray(Z).view(np.dtype((np.void, Z.dtype.itemsize * Z.shape[1])))\n",
        "_, idx = np.unique(T, return_index=True)\n",
        "uZ = Z[idx]\n",
        "print(uZ)"
      ]
    },
    {
      "cell_type": "markdown",
      "metadata": {
        "id": "JHQeRqyvy9sS"
      },
      "source": [
        "#### 97. Considering 2 vectors A & B, write the einsum equivalent of inner, outer, sum, and mul function (★★★) \n",
        "(**hint**: np.einsum)"
      ]
    },
    {
      "cell_type": "code",
      "execution_count": 51,
      "metadata": {
        "id": "m3HvdrMAy9sS",
        "colab": {
          "base_uri": "https://localhost:8080/"
        },
        "outputId": "75518ee8-b2ea-4fa2-9d7c-11f09c5ff333"
      },
      "outputs": [
        {
          "output_type": "stream",
          "name": "stdout",
          "text": [
            "[0 1 2]\n"
          ]
        }
      ],
      "source": [
        "A= np.arange(3)\n",
        "B =  np.arange(12).reshape(3,4)\n",
        "print (A)"
      ]
    },
    {
      "cell_type": "markdown",
      "metadata": {
        "id": "6imv9ll_y9sS"
      },
      "source": [
        "#### 98. Considering a path described by two vectors (X,Y), how to sample it using equidistant samples (★★★)? \n",
        "(**hint**: np.cumsum, np.interp)"
      ]
    },
    {
      "cell_type": "code",
      "execution_count": 52,
      "metadata": {
        "collapsed": true,
        "id": "xpdWGgqZy9sS"
      },
      "outputs": [],
      "source": [
        "phi = np.arange(0, 10*np.pi, 0.1)\n",
        "a = 1\n",
        "x = a*phi*np.cos(phi)\n",
        "y = a*phi*np.sin(phi)\n",
        "\n",
        "dr = (np.diff(x)**2 + np.diff(y)**2)**.5 \n",
        "r = np.zeros_like(x)\n",
        "r[1:] = np.cumsum(dr)                \n",
        "r_int = np.linspace(0, r.max(), 200) \n",
        "x_int = np.interp(r_int, r, x)       \n",
        "y_int = np.interp(r_int, r, y)"
      ]
    },
    {
      "cell_type": "markdown",
      "metadata": {
        "id": "w7IsfvHXy9sS"
      },
      "source": [
        "#### 99. Given an integer n and a 2D array X, select from X the rows which can be interpreted as draws from a multinomial distribution with n degrees, i.e., the rows which only contain integers and which sum to n. (★★★) \n",
        "(**hint**: np.logical\\_and.reduce, np.mod)"
      ]
    },
    {
      "cell_type": "code",
      "execution_count": null,
      "metadata": {
        "id": "1oFGhD1Cy9sS"
      },
      "outputs": [],
      "source": [
        ""
      ]
    },
    {
      "cell_type": "markdown",
      "metadata": {
        "id": "A1-jjM23y9sS"
      },
      "source": [
        "#### 100. Compute bootstrapped 95% confidence intervals for the mean of a 1D array X (i.e., resample the elements of an array with replacement N times, compute the mean of each sample, and then compute percentiles over the means). (★★★) \n",
        "(**hint**: np.percentile)"
      ]
    },
    {
      "cell_type": "code",
      "execution_count": null,
      "metadata": {
        "id": "VlSArj2My9sT"
      },
      "outputs": [],
      "source": [
        ""
      ]
    }
  ],
  "metadata": {
    "kernelspec": {
      "display_name": "Python 3",
      "language": "python",
      "name": "python3"
    },
    "language_info": {
      "codemirror_mode": {
        "name": "ipython",
        "version": 3
      },
      "file_extension": ".py",
      "mimetype": "text/x-python",
      "name": "python",
      "nbconvert_exporter": "python",
      "pygments_lexer": "ipython3",
      "version": "3.8.3"
    },
    "colab": {
      "name": "Numpy_tasks_Shahidh.ipynb",
      "provenance": [],
      "collapsed_sections": []
    }
  },
  "nbformat": 4,
  "nbformat_minor": 0
}